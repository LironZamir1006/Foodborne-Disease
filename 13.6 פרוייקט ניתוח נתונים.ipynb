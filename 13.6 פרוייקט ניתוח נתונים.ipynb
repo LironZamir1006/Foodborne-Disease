{
 "cells": [
  {
   "cell_type": "markdown",
   "id": "ce51b5f8-1e4c-42c8-aa1e-876bf5b64c33",
   "metadata": {},
   "source": [
    "# DA Final project:\n",
    "\n",
    "## Group 43\n",
    "\n",
    "# <b id='Read-data'>43. Foodborne</b> <b style='color: #40E0D0'>Disease Outbreaks, 1998-2015</b>\n",
    "Link to the data source - https://www.kaggle.com/datasets/cdc/foodborne-diseases\n",
    "\n",
    "###  Name of students:\n",
    "Liron Zamir<br>\n",
    "Noy Benhamu<br>\n",
    "Amit Kroitor<br>\n"
   ]
  },
  {
   "cell_type": "markdown",
   "id": "b93978f2-0da9-4103-95d5-fe9a42673d4f",
   "metadata": {},
   "source": [
    "<div>\n",
    "<img src=\"https://github.com/LironZamir1006/Foodborne-Disease/blob/main/%D7%AA%D7%9E%D7%95%D7%A0%D7%AA%20%D7%A9%D7%A2%D7%A8%20%D7%98%D7%95%D7%91%D7%94.png?raw=true\">\n",
    "</div>\n"
   ]
  },
  {
   "cell_type": "markdown",
   "id": "939247e8-cbe3-45d9-a206-5dedc0f85298",
   "metadata": {},
   "source": [
    "# <b> </b> <b style='color:bleck'>About Dataset</b>\n",
    "\n",
    "\n",
    "# <b> </b> <b style='color:#40E0D0'>Context</b>\n",
    "\n",
    "The data file provides information on cases of respiratory diseases by one or more outbreaks and caused by the same neglected food or drink. The information covers a period of time from 1998 to 2015, and includes details such as year, country, location where the preparation was made, the food being reported, the food family that was infected with it, the cause (hallucination, bacterial poisoning or a chemical substance) that caused the disease, condition (whether the cause is confirmed or suspected ), the total number of patients, hospitals, and deceased. During many disease investigations, no specific food vehicle is identified; For these cases, the food variable is empty.RS).on"
   ]
  },
  {
   "cell_type": "markdown",
   "id": "3a0b2de1-829e-444c-bf7c-5a03ab2ce7d3",
   "metadata": {},
   "source": [
    "___\n",
    "#  <b id=\"introductions\"> </b> <b style='color:black'>Introduction </b> <b> &  Basic <b style='color:#40E0D0'>EDA. </b>  \n"
   ]
  },
  {
   "cell_type": "markdown",
   "id": "d2bc8959-4530-4e2e-b1fe-bf8ce506686b",
   "metadata": {},
   "source": [
    "<b id=\"Top\"> </b>  \n",
    "\n",
    "1. [Importing Libraries.](#1)\n",
    "2. [Read Data.](#2)\n",
    "3. [EDA Project.](#3)\n",
    "4. [conditional selection](#4)\n",
    "\n",
    "\n",
    "---"
   ]
  },
  {
   "cell_type": "markdown",
   "id": "fd8ad54b-1eeb-41fd-be2f-ce230858a597",
   "metadata": {},
   "source": [
    "<div style=\"color:white;display:fill;border-radius:100px;\n",
    "            background-color:#03112A;font-size:10%; \n",
    "            letter-spacing:1.0px;background-image: url(https://i.imgur.com/GVd0La1.png)\">\n",
    "    <p style=\"padding: 8px;text-align: center;color:white; border-radius: 5px; padding-top: 5px; padding-bottom: 10px;\"><b><b><span style='color:#2ae4f5''></span></b>   </b></p>\n",
    "</div>"
   ]
  },
  {
   "cell_type": "markdown",
   "id": "f3645717-5133-419f-a8b9-5580226863bf",
   "metadata": {},
   "source": [
    "## <b>1.Importing </b> <b style='color:#40E0D0'>Libraries.</b>"
   ]
  },
  {
   "cell_type": "code",
   "execution_count": 1,
   "id": "bb1c2945-b67e-4665-96c7-64fa9f292e91",
   "metadata": {
    "tags": []
   },
   "outputs": [],
   "source": [
    "import pandas as pd\n",
    "import numpy as np\n",
    "import matplotlib.pyplot as plt\n",
    "import seaborn as sns\n",
    "import sklearn as sk\n",
    "from datetime import date"
   ]
  },
  {
   "cell_type": "markdown",
   "id": "806e8280-7f7b-44b7-8e40-de00dd10e613",
   "metadata": {},
   "source": [
    "## <b id='Read-data'>2.Read </b> <b style='color: #40E0D0'>Data.</b>"
   ]
  },
  {
   "cell_type": "code",
   "execution_count": 2,
   "id": "2981808b-016f-4822-a564-78528baeb3bc",
   "metadata": {
    "tags": []
   },
   "outputs": [],
   "source": [
    "url = 'https://raw.githubusercontent.com/LironZamir1006/Foodborne-Disease/main/Foodborne%20Disease%20Outbreaks%2C%201998-2015.csv'\n",
    "food_df = pd.read_csv(url)"
   ]
  },
  {
   "cell_type": "code",
   "execution_count": 3,
   "id": "b2f0d7cd-7806-4ebf-9963-b0d216cb62f4",
   "metadata": {},
   "outputs": [
    {
     "data": {
      "text/html": [
       "<div>\n",
       "<style scoped>\n",
       "    .dataframe tbody tr th:only-of-type {\n",
       "        vertical-align: middle;\n",
       "    }\n",
       "\n",
       "    .dataframe tbody tr th {\n",
       "        vertical-align: top;\n",
       "    }\n",
       "\n",
       "    .dataframe thead th {\n",
       "        text-align: right;\n",
       "    }\n",
       "</style>\n",
       "<table border=\"1\" class=\"dataframe\">\n",
       "  <thead>\n",
       "    <tr style=\"text-align: right;\">\n",
       "      <th></th>\n",
       "      <th>Year</th>\n",
       "      <th>Month</th>\n",
       "      <th>State</th>\n",
       "      <th>Location</th>\n",
       "      <th>Food</th>\n",
       "      <th>Ingredient</th>\n",
       "      <th>Species</th>\n",
       "      <th>Serotype/Genotype</th>\n",
       "      <th>Status</th>\n",
       "      <th>Illnesses</th>\n",
       "      <th>Hospitalizations</th>\n",
       "      <th>Fatalities</th>\n",
       "    </tr>\n",
       "  </thead>\n",
       "  <tbody>\n",
       "    <tr>\n",
       "      <th>19114</th>\n",
       "      <td>2015</td>\n",
       "      <td>December</td>\n",
       "      <td>Wisconsin</td>\n",
       "      <td>Restaurant</td>\n",
       "      <td>NaN</td>\n",
       "      <td>NaN</td>\n",
       "      <td>Norovirus genogroup II</td>\n",
       "      <td>GII_14</td>\n",
       "      <td>Confirmed</td>\n",
       "      <td>4</td>\n",
       "      <td>0.0</td>\n",
       "      <td>0.0</td>\n",
       "    </tr>\n",
       "    <tr>\n",
       "      <th>19115</th>\n",
       "      <td>2015</td>\n",
       "      <td>December</td>\n",
       "      <td>Wisconsin</td>\n",
       "      <td>Private Home/Residence</td>\n",
       "      <td>Salsa</td>\n",
       "      <td>NaN</td>\n",
       "      <td>Norovirus genogroup II</td>\n",
       "      <td>GII_2</td>\n",
       "      <td>Confirmed</td>\n",
       "      <td>16</td>\n",
       "      <td>0.0</td>\n",
       "      <td>0.0</td>\n",
       "    </tr>\n",
       "    <tr>\n",
       "      <th>19116</th>\n",
       "      <td>2015</td>\n",
       "      <td>December</td>\n",
       "      <td>Wisconsin</td>\n",
       "      <td>Nursing Home/Assisted Living Facility</td>\n",
       "      <td>NaN</td>\n",
       "      <td>NaN</td>\n",
       "      <td>Norovirus genogroup II</td>\n",
       "      <td>GII_17 Kawasaki (2014)</td>\n",
       "      <td>Confirmed</td>\n",
       "      <td>43</td>\n",
       "      <td>3.0</td>\n",
       "      <td>0.0</td>\n",
       "    </tr>\n",
       "    <tr>\n",
       "      <th>19117</th>\n",
       "      <td>2015</td>\n",
       "      <td>December</td>\n",
       "      <td>Wisconsin</td>\n",
       "      <td>Fast Food Restaurant</td>\n",
       "      <td>NaN</td>\n",
       "      <td>NaN</td>\n",
       "      <td>Norovirus genogroup II</td>\n",
       "      <td>GII_2</td>\n",
       "      <td>Confirmed</td>\n",
       "      <td>5</td>\n",
       "      <td>0.0</td>\n",
       "      <td>0.0</td>\n",
       "    </tr>\n",
       "    <tr>\n",
       "      <th>19118</th>\n",
       "      <td>2015</td>\n",
       "      <td>December</td>\n",
       "      <td>Wyoming</td>\n",
       "      <td>NaN</td>\n",
       "      <td>NaN</td>\n",
       "      <td>NaN</td>\n",
       "      <td>NaN</td>\n",
       "      <td>NaN</td>\n",
       "      <td>NaN</td>\n",
       "      <td>3</td>\n",
       "      <td>0.0</td>\n",
       "      <td>0.0</td>\n",
       "    </tr>\n",
       "  </tbody>\n",
       "</table>\n",
       "</div>"
      ],
      "text/plain": [
       "       Year     Month      State                               Location  \\\n",
       "19114  2015  December  Wisconsin                             Restaurant   \n",
       "19115  2015  December  Wisconsin                 Private Home/Residence   \n",
       "19116  2015  December  Wisconsin  Nursing Home/Assisted Living Facility   \n",
       "19117  2015  December  Wisconsin                   Fast Food Restaurant   \n",
       "19118  2015  December    Wyoming                                    NaN   \n",
       "\n",
       "        Food Ingredient                 Species       Serotype/Genotype  \\\n",
       "19114    NaN        NaN  Norovirus genogroup II                  GII_14   \n",
       "19115  Salsa        NaN  Norovirus genogroup II                   GII_2   \n",
       "19116    NaN        NaN  Norovirus genogroup II  GII_17 Kawasaki (2014)   \n",
       "19117    NaN        NaN  Norovirus genogroup II                   GII_2   \n",
       "19118    NaN        NaN                     NaN                     NaN   \n",
       "\n",
       "          Status  Illnesses  Hospitalizations  Fatalities  \n",
       "19114  Confirmed          4               0.0         0.0  \n",
       "19115  Confirmed         16               0.0         0.0  \n",
       "19116  Confirmed         43               3.0         0.0  \n",
       "19117  Confirmed          5               0.0         0.0  \n",
       "19118        NaN          3               0.0         0.0  "
      ]
     },
     "execution_count": 3,
     "metadata": {},
     "output_type": "execute_result"
    }
   ],
   "source": [
    "food_df.tail()"
   ]
  },
  {
   "cell_type": "code",
   "execution_count": 4,
   "id": "82fb56f8-416f-4eea-993d-e233b01117c5",
   "metadata": {
    "tags": []
   },
   "outputs": [
    {
     "data": {
      "text/plain": [
       "Index(['Year', 'Month', 'State', 'Location', 'Food', 'Ingredient', 'Species',\n",
       "       'Serotype/Genotype', 'Status', 'Illnesses', 'Hospitalizations',\n",
       "       'Fatalities'],\n",
       "      dtype='object')"
      ]
     },
     "execution_count": 4,
     "metadata": {},
     "output_type": "execute_result"
    }
   ],
   "source": [
    "food_df.columns"
   ]
  },
  {
   "cell_type": "code",
   "execution_count": 5,
   "id": "594114a3-f4f3-4cae-943c-4485412f59df",
   "metadata": {
    "tags": []
   },
   "outputs": [
    {
     "data": {
      "text/plain": [
       "(19119, 12)"
      ]
     },
     "execution_count": 5,
     "metadata": {},
     "output_type": "execute_result"
    }
   ],
   "source": [
    "food_df.shape"
   ]
  },
  {
   "cell_type": "markdown",
   "id": "0c57c1a3-8a5a-456e-bcd8-14463bce333f",
   "metadata": {},
   "source": [
    "### <b>3.EDA </b> <b style='color:#40E0D0'>Project.</b>\n",
    "<ul>\n",
    "<li>missing values - ערכים חסרים</li>\n",
    "<li>outliers - חריגים</li>\n",
    "<li>EDA - ניתוח נתונים</li>\n",
    "</ul>"
   ]
  },
  {
   "cell_type": "code",
   "execution_count": 5,
   "id": "7bab7d67-1c9b-447d-89d4-89ca0d94f69a",
   "metadata": {
    "tags": []
   },
   "outputs": [
    {
     "data": {
      "text/plain": [
       "Year                   int64\n",
       "Month                 object\n",
       "State                 object\n",
       "Location              object\n",
       "Food                  object\n",
       "Ingredient            object\n",
       "Species               object\n",
       "Serotype/Genotype     object\n",
       "Status                object\n",
       "Illnesses              int64\n",
       "Hospitalizations     float64\n",
       "Fatalities           float64\n",
       "dtype: object"
      ]
     },
     "execution_count": 5,
     "metadata": {},
     "output_type": "execute_result"
    }
   ],
   "source": [
    "#סוגי ערכים\n",
    "food_df.dtypes"
   ]
  },
  {
   "cell_type": "code",
   "execution_count": 6,
   "id": "b729cd72-469e-43fa-8b53-a3500b4b3c96",
   "metadata": {
    "tags": []
   },
   "outputs": [
    {
     "data": {
      "text/plain": [
       "Year                     0\n",
       "Month                    0\n",
       "State                    0\n",
       "Illnesses                0\n",
       "Location              2166\n",
       "Fatalities            3601\n",
       "Hospitalizations      3625\n",
       "Species               6619\n",
       "Status                6619\n",
       "Food                  8963\n",
       "Serotype/Genotype    15212\n",
       "Ingredient           17243\n",
       "dtype: int64"
      ]
     },
     "execution_count": 6,
     "metadata": {},
     "output_type": "execute_result"
    }
   ],
   "source": [
    "#כמות ערכים חסרים\n",
    "food_df.isnull().sum().sort_values()"
   ]
  },
  {
   "cell_type": "code",
   "execution_count": 7,
   "id": "3f0399f5-1990-4f8c-991a-3402337ff100",
   "metadata": {},
   "outputs": [],
   "source": [
    "#פונקציות לניתוח\n",
    "#הדפסת עמודות עם המון ערכים ריקים\n",
    "def columns_with_empty_values_above_threshold(food_df, threshold):\n",
    "    columns_with_empty = []\n",
    "    for column in food_df.columns:\n",
    "        empty_count = food_df[column].isnull().sum()\n",
    "        if empty_count > threshold:\n",
    "            columns_with_empty.append(column)\n",
    "    return columns_with_empty\n",
    "\n",
    "#הדפסת מספר שורות עם המון ערכים ריקים\n",
    "def count_rows_with_empty_values(food_df, threshold):\n",
    "    num_empty_values = food_df.isnull().sum(axis=1)\n",
    "    rows_with_empty_values = (num_empty_values > threshold).sum()\n",
    "    return rows_with_empty_values\n",
    "\n",
    "# הסרת ערכים ריקים מעמודות ממספר מסויים ומטה \n",
    "def remove_rows_with_empty_values_below_threshold(food_df, column_name, threshold):\n",
    "    food_df_cleaned = food_df[food_df[column_name].isnull().sum() >= threshold]\n",
    "    return df_cleaned\n"
   ]
  },
  {
   "cell_type": "code",
   "execution_count": 9,
   "id": "a56f6153-d334-4ff4-9421-99e7a0bb2e06",
   "metadata": {},
   "outputs": [
    {
     "name": "stdout",
     "output_type": "stream",
     "text": [
      "Columns with empty values: ['Ingredient', 'Serotype/Genotype']\n"
     ]
    }
   ],
   "source": [
    "#מציג את שני העמודות שיש בהן יותר מ10000 ערכים חסרים\n",
    "empty_columns = columns_with_empty_values_above_threshold(food_df, 10000)\n",
    "print(\"Columns with empty values:\", empty_columns)"
   ]
  },
  {
   "cell_type": "code",
   "execution_count": 10,
   "id": "5ba97e5c-7823-4ba6-b400-bd9332b53982",
   "metadata": {},
   "outputs": [
    {
     "name": "stdout",
     "output_type": "stream",
     "text": [
      "Number of rows with more than 3 empty values: 8172\n"
     ]
    }
   ],
   "source": [
    "#שורות שיש בהן מעל 3 ערכים ריקים\n",
    "rows_with_empty = count_rows_with_empty_values(food_df, threshold=3)\n",
    "print(f\"Number of rows with more than 3 empty values: {rows_with_empty}\")"
   ]
  },
  {
   "cell_type": "code",
   "execution_count": 11,
   "id": "d1bc28fd-b5f0-4284-9fd2-3e568f912b58",
   "metadata": {},
   "outputs": [
    {
     "name": "stdout",
     "output_type": "stream",
     "text": [
      "Number of rows with more than 3 empty values: 5360\n"
     ]
    }
   ],
   "source": [
    "rows_with_empty = count_rows_with_empty_values(food_df, threshold=4)\n",
    "print(f\"Number of rows with more than 4 empty values: {rows_with_empty}\")"
   ]
  },
  {
   "cell_type": "code",
   "execution_count": 26,
   "id": "7eed3a35-62d9-418d-8929-32db02589891",
   "metadata": {
    "tags": []
   },
   "outputs": [
    {
     "data": {
      "text/html": [
       "<div>\n",
       "<style scoped>\n",
       "    .dataframe tbody tr th:only-of-type {\n",
       "        vertical-align: middle;\n",
       "    }\n",
       "\n",
       "    .dataframe tbody tr th {\n",
       "        vertical-align: top;\n",
       "    }\n",
       "\n",
       "    .dataframe thead th {\n",
       "        text-align: right;\n",
       "    }\n",
       "</style>\n",
       "<table border=\"1\" class=\"dataframe\">\n",
       "  <thead>\n",
       "    <tr style=\"text-align: right;\">\n",
       "      <th></th>\n",
       "      <th>Year</th>\n",
       "      <th>Month</th>\n",
       "      <th>State</th>\n",
       "      <th>Location</th>\n",
       "      <th>Food</th>\n",
       "      <th>Ingredient</th>\n",
       "      <th>Species</th>\n",
       "      <th>Serotype/Genotype</th>\n",
       "      <th>Status</th>\n",
       "      <th>Illnesses</th>\n",
       "      <th>Hospitalizations</th>\n",
       "      <th>Fatalities</th>\n",
       "    </tr>\n",
       "  </thead>\n",
       "  <tbody>\n",
       "    <tr>\n",
       "      <th>0</th>\n",
       "      <td>1998</td>\n",
       "      <td>January</td>\n",
       "      <td>California</td>\n",
       "      <td>Restaurant</td>\n",
       "      <td>NaN</td>\n",
       "      <td>NaN</td>\n",
       "      <td>NaN</td>\n",
       "      <td>NaN</td>\n",
       "      <td>NaN</td>\n",
       "      <td>20</td>\n",
       "      <td>0.0</td>\n",
       "      <td>0.0</td>\n",
       "    </tr>\n",
       "    <tr>\n",
       "      <th>1</th>\n",
       "      <td>1998</td>\n",
       "      <td>January</td>\n",
       "      <td>California</td>\n",
       "      <td>NaN</td>\n",
       "      <td>Custard</td>\n",
       "      <td>NaN</td>\n",
       "      <td>NaN</td>\n",
       "      <td>NaN</td>\n",
       "      <td>NaN</td>\n",
       "      <td>112</td>\n",
       "      <td>0.0</td>\n",
       "      <td>0.0</td>\n",
       "    </tr>\n",
       "    <tr>\n",
       "      <th>2</th>\n",
       "      <td>1998</td>\n",
       "      <td>January</td>\n",
       "      <td>California</td>\n",
       "      <td>Restaurant</td>\n",
       "      <td>NaN</td>\n",
       "      <td>NaN</td>\n",
       "      <td>NaN</td>\n",
       "      <td>NaN</td>\n",
       "      <td>NaN</td>\n",
       "      <td>35</td>\n",
       "      <td>0.0</td>\n",
       "      <td>0.0</td>\n",
       "    </tr>\n",
       "    <tr>\n",
       "      <th>3</th>\n",
       "      <td>1998</td>\n",
       "      <td>January</td>\n",
       "      <td>California</td>\n",
       "      <td>Restaurant</td>\n",
       "      <td>Fish, Ahi</td>\n",
       "      <td>NaN</td>\n",
       "      <td>Scombroid toxin</td>\n",
       "      <td>NaN</td>\n",
       "      <td>Confirmed</td>\n",
       "      <td>4</td>\n",
       "      <td>0.0</td>\n",
       "      <td>0.0</td>\n",
       "    </tr>\n",
       "    <tr>\n",
       "      <th>4</th>\n",
       "      <td>1998</td>\n",
       "      <td>January</td>\n",
       "      <td>California</td>\n",
       "      <td>Private Home/Residence</td>\n",
       "      <td>Lasagna, Unspecified; Eggs, Other</td>\n",
       "      <td>NaN</td>\n",
       "      <td>Salmonella enterica</td>\n",
       "      <td>Enteritidis</td>\n",
       "      <td>Confirmed</td>\n",
       "      <td>26</td>\n",
       "      <td>3.0</td>\n",
       "      <td>0.0</td>\n",
       "    </tr>\n",
       "    <tr>\n",
       "      <th>...</th>\n",
       "      <td>...</td>\n",
       "      <td>...</td>\n",
       "      <td>...</td>\n",
       "      <td>...</td>\n",
       "      <td>...</td>\n",
       "      <td>...</td>\n",
       "      <td>...</td>\n",
       "      <td>...</td>\n",
       "      <td>...</td>\n",
       "      <td>...</td>\n",
       "      <td>...</td>\n",
       "      <td>...</td>\n",
       "    </tr>\n",
       "    <tr>\n",
       "      <th>19114</th>\n",
       "      <td>2015</td>\n",
       "      <td>December</td>\n",
       "      <td>Wisconsin</td>\n",
       "      <td>Restaurant</td>\n",
       "      <td>NaN</td>\n",
       "      <td>NaN</td>\n",
       "      <td>Norovirus genogroup II</td>\n",
       "      <td>GII_14</td>\n",
       "      <td>Confirmed</td>\n",
       "      <td>4</td>\n",
       "      <td>0.0</td>\n",
       "      <td>0.0</td>\n",
       "    </tr>\n",
       "    <tr>\n",
       "      <th>19115</th>\n",
       "      <td>2015</td>\n",
       "      <td>December</td>\n",
       "      <td>Wisconsin</td>\n",
       "      <td>Private Home/Residence</td>\n",
       "      <td>Salsa</td>\n",
       "      <td>NaN</td>\n",
       "      <td>Norovirus genogroup II</td>\n",
       "      <td>GII_2</td>\n",
       "      <td>Confirmed</td>\n",
       "      <td>16</td>\n",
       "      <td>0.0</td>\n",
       "      <td>0.0</td>\n",
       "    </tr>\n",
       "    <tr>\n",
       "      <th>19116</th>\n",
       "      <td>2015</td>\n",
       "      <td>December</td>\n",
       "      <td>Wisconsin</td>\n",
       "      <td>Nursing Home/Assisted Living Facility</td>\n",
       "      <td>NaN</td>\n",
       "      <td>NaN</td>\n",
       "      <td>Norovirus genogroup II</td>\n",
       "      <td>GII_17 Kawasaki (2014)</td>\n",
       "      <td>Confirmed</td>\n",
       "      <td>43</td>\n",
       "      <td>3.0</td>\n",
       "      <td>0.0</td>\n",
       "    </tr>\n",
       "    <tr>\n",
       "      <th>19117</th>\n",
       "      <td>2015</td>\n",
       "      <td>December</td>\n",
       "      <td>Wisconsin</td>\n",
       "      <td>Fast Food Restaurant</td>\n",
       "      <td>NaN</td>\n",
       "      <td>NaN</td>\n",
       "      <td>Norovirus genogroup II</td>\n",
       "      <td>GII_2</td>\n",
       "      <td>Confirmed</td>\n",
       "      <td>5</td>\n",
       "      <td>0.0</td>\n",
       "      <td>0.0</td>\n",
       "    </tr>\n",
       "    <tr>\n",
       "      <th>19118</th>\n",
       "      <td>2015</td>\n",
       "      <td>December</td>\n",
       "      <td>Wyoming</td>\n",
       "      <td>NaN</td>\n",
       "      <td>NaN</td>\n",
       "      <td>NaN</td>\n",
       "      <td>NaN</td>\n",
       "      <td>NaN</td>\n",
       "      <td>NaN</td>\n",
       "      <td>3</td>\n",
       "      <td>0.0</td>\n",
       "      <td>0.0</td>\n",
       "    </tr>\n",
       "  </tbody>\n",
       "</table>\n",
       "<p>19119 rows × 12 columns</p>\n",
       "</div>"
      ],
      "text/plain": [
       "       Year     Month       State                               Location  \\\n",
       "0      1998   January  California                             Restaurant   \n",
       "1      1998   January  California                                    NaN   \n",
       "2      1998   January  California                             Restaurant   \n",
       "3      1998   January  California                             Restaurant   \n",
       "4      1998   January  California                 Private Home/Residence   \n",
       "...     ...       ...         ...                                    ...   \n",
       "19114  2015  December   Wisconsin                             Restaurant   \n",
       "19115  2015  December   Wisconsin                 Private Home/Residence   \n",
       "19116  2015  December   Wisconsin  Nursing Home/Assisted Living Facility   \n",
       "19117  2015  December   Wisconsin                   Fast Food Restaurant   \n",
       "19118  2015  December     Wyoming                                    NaN   \n",
       "\n",
       "                                    Food Ingredient                 Species  \\\n",
       "0                                    NaN        NaN                     NaN   \n",
       "1                                Custard        NaN                     NaN   \n",
       "2                                    NaN        NaN                     NaN   \n",
       "3                              Fish, Ahi        NaN         Scombroid toxin   \n",
       "4      Lasagna, Unspecified; Eggs, Other        NaN     Salmonella enterica   \n",
       "...                                  ...        ...                     ...   \n",
       "19114                                NaN        NaN  Norovirus genogroup II   \n",
       "19115                              Salsa        NaN  Norovirus genogroup II   \n",
       "19116                                NaN        NaN  Norovirus genogroup II   \n",
       "19117                                NaN        NaN  Norovirus genogroup II   \n",
       "19118                                NaN        NaN                     NaN   \n",
       "\n",
       "            Serotype/Genotype     Status  Illnesses  Hospitalizations  \\\n",
       "0                         NaN        NaN         20               0.0   \n",
       "1                         NaN        NaN        112               0.0   \n",
       "2                         NaN        NaN         35               0.0   \n",
       "3                         NaN  Confirmed          4               0.0   \n",
       "4                 Enteritidis  Confirmed         26               3.0   \n",
       "...                       ...        ...        ...               ...   \n",
       "19114                  GII_14  Confirmed          4               0.0   \n",
       "19115                   GII_2  Confirmed         16               0.0   \n",
       "19116  GII_17 Kawasaki (2014)  Confirmed         43               3.0   \n",
       "19117                   GII_2  Confirmed          5               0.0   \n",
       "19118                     NaN        NaN          3               0.0   \n",
       "\n",
       "       Fatalities  \n",
       "0             0.0  \n",
       "1             0.0  \n",
       "2             0.0  \n",
       "3             0.0  \n",
       "4             0.0  \n",
       "...           ...  \n",
       "19114         0.0  \n",
       "19115         0.0  \n",
       "19116         0.0  \n",
       "19117         0.0  \n",
       "19118         0.0  \n",
       "\n",
       "[19119 rows x 12 columns]"
      ]
     },
     "execution_count": 26,
     "metadata": {},
     "output_type": "execute_result"
    }
   ],
   "source": [
    "food_df"
   ]
  },
  {
   "cell_type": "markdown",
   "id": "31391f04-2787-4887-89c9-94ab48488fa0",
   "metadata": {},
   "source": [
    "### <b>3.EDA </b> <b style='color:#40E0D0'>Project</b>"
   ]
  },
  {
   "cell_type": "code",
   "execution_count": 42,
   "id": "80a45598-02f3-444d-8cbb-53ca6656a7fb",
   "metadata": {
    "tags": []
   },
   "outputs": [
    {
     "data": {
      "text/plain": [
       "2166"
      ]
     },
     "execution_count": 42,
     "metadata": {},
     "output_type": "execute_result"
    }
   ],
   "source": [
    "food_df['Location'].isnull().sum()\n",
    "# עמודה מספר 4 הצגת מספר הערכים הריקים"
   ]
  },
  {
   "cell_type": "code",
   "execution_count": 41,
   "id": "fa18c5ec-559a-4e72-9349-59ad6c4ee59d",
   "metadata": {
    "tags": []
   },
   "outputs": [
    {
     "data": {
      "text/plain": [
       "array(['Restaurant', nan, 'Private Home/Residence', 'Grocery Store',\n",
       "       'Catering Service', 'Restaurant; Catering Service',\n",
       "       'School/College/University', 'Restaurant; Grocery Store',\n",
       "       'Restaurant; Private Home/Residence',\n",
       "       'Nursing Home/Assisted Living Facility', 'Camp', 'Hospital',\n",
       "       'Office/Indoor Workplace', 'Prison/Jail', 'Child Daycare',\n",
       "       'Religious Facility', 'Private Home/Residence; Religious Facility',\n",
       "       'Private Home/Residence; Grocery Store',\n",
       "       'Private Home/Residence; Catering Service', 'Unknown',\n",
       "       'Fair/Festival', 'Catering Service; School/College/University',\n",
       "       'School/College/University; Religious Facility',\n",
       "       'School/College/University; Camp',\n",
       "       'Grocery Store; Office/Indoor Workplace',\n",
       "       'Restaurant; Private Home/Residence; Grocery Store',\n",
       "       'Private Home/Residence; Fair/Festival', 'Restaurant; Prison/Jail',\n",
       "       'Restaurant; Nursing Home/Assisted Living Facility',\n",
       "       'Restaurant; School/College/University',\n",
       "       'Restaurant; Private Home/Residence; Religious Facility',\n",
       "       'Restaurant; Private Home/Residence; School/College/University',\n",
       "       'Nursing Home/Assisted Living Facility; Hospital',\n",
       "       'Restaurant; Camp', 'Catering Service; Grocery Store',\n",
       "       'Restaurant; Private Home/Residence; Catering Service',\n",
       "       'Restaurant; Grocery Store; School/College/University',\n",
       "       'Private Home/Residence; Grocery Store; School/College/University',\n",
       "       'Restaurant; Private Home/Residence; Grocery Store; Nursing Home/Assisted Living Facility',\n",
       "       'Restaurant; Religious Facility',\n",
       "       'Restaurant; Private Home/Residence; Grocery Store; Child Daycare; School/College/University; Camp',\n",
       "       'Restaurant; Catering Service; Grocery Store',\n",
       "       'Private Home/Residence; Camp',\n",
       "       'Private Home/Residence; Catering Service; Grocery Store',\n",
       "       'Office/Indoor Workplace; Nursing Home/Assisted Living Facility; Hospital',\n",
       "       'Restaurant; Private Home/Residence; Grocery Store; Office/Indoor Workplace; Religious Facility',\n",
       "       'Catering Service; Religious Facility',\n",
       "       'Restaurant; Office/Indoor Workplace',\n",
       "       'Office/Indoor Workplace; Hospital',\n",
       "       'Restaurant; Private Home/Residence; Grocery Store; Religious Facility',\n",
       "       'Restaurant; Catering Service; School/College/University',\n",
       "       'Private Home/Residence; Grocery Store; Nursing Home/Assisted Living Facility',\n",
       "       'Private Home/Residence; Catering Service; School/College/University',\n",
       "       'Banquet Facility', 'Catering Service; Hospital',\n",
       "       'Restaurant; Hospital; School/College/University',\n",
       "       'Restaurant; Catering Service; Fair/Festival',\n",
       "       'Grocery Store; Religious Facility',\n",
       "       'Restaurant; Private Home/Residence; Catering Service; Grocery Store',\n",
       "       'Private Home/Residence; School/College/University',\n",
       "       'Restaurant; Private Home/Residence; Catering Service; Grocery Store; Nursing Home/Assisted Living Facility; Hospital',\n",
       "       'Private Home/Residence; Catering Service; Religious Facility',\n",
       "       'Restaurant; Office/Indoor Workplace; Hospital',\n",
       "       'Private Home/Residence; Grocery Store; Child Daycare',\n",
       "       'Restaurant; Private Home/Residence; Catering Service; Fair/Festival',\n",
       "       'Private Home/Residence; Child Daycare',\n",
       "       'Fair/Festival; Grocery Store',\n",
       "       'Catering Service; Grocery Store; Office/Indoor Workplace',\n",
       "       'Restaurant; Fair/Festival', 'Catering Service; Child Daycare',\n",
       "       'Restaurant; Private Home/Residence; Office/Indoor Workplace; Nursing Home/Assisted Living Facility',\n",
       "       'Catering Service; Nursing Home/Assisted Living Facility',\n",
       "       'Office/Indoor Workplace; Camp', 'Catering Service; Fair/Festival',\n",
       "       'Restaurant; Catering Service; Office/Indoor Workplace',\n",
       "       'Private Home/Residence; Hospital; School/College/University',\n",
       "       'Private Home/Residence; Child Daycare; School/College/University',\n",
       "       'Restaurant; Banquet Facility',\n",
       "       'Restaurant; Private Home/Residence; Banquet Facility; Grocery Store',\n",
       "       'Restaurant; Private Home/Residence; Fair/Festival; Grocery Store; School/College/University',\n",
       "       'Restaurant; Private Home/Residence; Office/Indoor Workplace; Hospital',\n",
       "       'Restaurant; Unknown',\n",
       "       'Restaurant; Nursing Home/Assisted Living Facility; Hospital',\n",
       "       'Restaurant; Grocery Store; Office/Indoor Workplace',\n",
       "       'Restaurant; Private Home/Residence; Banquet Facility',\n",
       "       'Fair/Festival; Office/Indoor Workplace',\n",
       "       'Private Home/Residence; Banquet Facility; Catering Service; Grocery Store',\n",
       "       'Private Home/Residence; Grocery Store; Religious Facility',\n",
       "       'Banquet Facility; Office/Indoor Workplace',\n",
       "       'Banquet Facility; Unknown', 'Banquet Facility; Catering Service',\n",
       "       'Catering Service; Unknown',\n",
       "       'Office/Indoor Workplace; Prison/Jail',\n",
       "       'Restaurant; Private Home/Residence; Hospital',\n",
       "       'Office/Indoor Workplace; School/College/University',\n",
       "       'Restaurant; Private Home/Residence; Banquet Facility; Fair/Festival',\n",
       "       'Private Home/Residence; Banquet Facility',\n",
       "       'Banquet Facility; Catering Service; Grocery Store',\n",
       "       'Banquet Facility; Grocery Store',\n",
       "       'Restaurant; Banquet Facility; Office/Indoor Workplace',\n",
       "       'Private Home/Residence; Office/Indoor Workplace',\n",
       "       'Other (Describe In Remarks); Unknown',\n",
       "       'Restaurant; Private Home/Residence; Fair/Festival',\n",
       "       'Private Home/Residence; Banquet Facility; Unknown',\n",
       "       'Child Daycare; Religious Facility', 'Catering Service; Camp',\n",
       "       'Restaurant; Banquet Facility; Catering Service',\n",
       "       'Restaurant; Nursing Home/Assisted Living Facility; Unknown',\n",
       "       'Private Home/Residence; Banquet Facility; Religious Facility',\n",
       "       'Private Home/Residence; Fair/Festival; Grocery Store',\n",
       "       'Restaurant; Private Home/Residence; Catering Service; Office/Indoor Workplace',\n",
       "       'Fast Food Restaurant',\n",
       "       'Fast Food Restaurant; Private Home/Residence; Grocery Store',\n",
       "       'Fast Food Restaurant; Private Home/Residence',\n",
       "       'Fast Food Restaurant; Restaurant',\n",
       "       'School/College/University; Prison/Jail',\n",
       "       'Catering Service; Office/Indoor Workplace',\n",
       "       'Fast Food Restaurant; Catering Service',\n",
       "       'Fast Food Restaurant; Restaurant; Private Home/Residence',\n",
       "       'Restaurant; Restaurant; Private Home/Residence; Banquet Facility; Catering Service',\n",
       "       'Fast Food Restaurant; Fair/Festival; School/College/University',\n",
       "       'Restaurant; Office/Indoor Workplace; School/College/University',\n",
       "       'Fast Food Restaurant; Grocery Store',\n",
       "       'Restaurant; Banquet Facility; Grocery Store',\n",
       "       'Private Home/Residence; Banquet Facility; Catering Service; Fair/Festival; Grocery Store',\n",
       "       'Fair/Festival; Prison/Jail',\n",
       "       'Fast Food Restaurant; Restaurant; Restaurant; Private Home/Residence',\n",
       "       'Fast Food Restaurant; Private Home/Residence; Catering Service; Grocery Store',\n",
       "       'Private Home/Residence; Grocery Store; Nursing Home/Assisted Living Facility; School/College/University',\n",
       "       'Private Home/Residence; Office/Indoor Workplace; Camp',\n",
       "       'Fast Food Restaurant; Restaurant; Restaurant',\n",
       "       'Private Home/Residence; Unknown',\n",
       "       'Restaurant; Private Home/Residence; Grocery Store; Unknown',\n",
       "       'Restaurant; Private Home/Residence; Camp',\n",
       "       'Private Home/Residence; Banquet Facility; Camp',\n",
       "       'Grocery Store; School/College/University',\n",
       "       'Private Home/Residence; Catering Service; Office/Indoor Workplace',\n",
       "       'Fast Food Restaurant; Restaurant; School/College/University',\n",
       "       'Private Home/Residence; Banquet Facility; Catering Service',\n",
       "       'Restaurant; Restaurant; Private Home/Residence; Banquet Facility',\n",
       "       'Restaurant; Catering Service; Religious Facility',\n",
       "       'Banquet Facility; Religious Facility',\n",
       "       'Fast Food Restaurant; Restaurant; Fair/Festival',\n",
       "       'Fast Food Restaurant; Hospital',\n",
       "       'Child Daycare; School/College/University',\n",
       "       'Private Home/Residence; Catering Service; Prison/Jail; Religious Facility',\n",
       "       'Private Home/Residence; Grocery Store; School/College/University; Unknown',\n",
       "       'Fast Food Restaurant; Restaurant; Unknown',\n",
       "       'Fast Food Restaurant; Restaurant; Restaurant; Private Home/Residence; Grocery Store; Long-Term Care/Nursing Home/As...',\n",
       "       'Restaurant; Restaurant; Banquet Facility',\n",
       "       'Fast Food Restaurant; Restaurant; Office/Indoor Workplace',\n",
       "       'Farm/Dairy',\n",
       "       'Banquet Facility; Catering Service; Religious Facility',\n",
       "       'Fast Food Restaurant; Restaurant; Restaurant; Grocery Store; Office/Indoor Workplace',\n",
       "       'Fast Food Restaurant; Restaurant; Private Home/Residence; Grocery Store',\n",
       "       'Restaurant Buffet', 'Restaurant; Restaurant',\n",
       "       'Catering Service; Fair/Festival; Grocery Store',\n",
       "       'Restaurant; Private Home/Residence; Banquet Facility; Catering Service; Grocery Store',\n",
       "       'Restaurant; Restaurant Buffet', 'Ship/Boat', 'Hotel/Motel'],\n",
       "      dtype=object)"
      ]
     },
     "execution_count": 41,
     "metadata": {},
     "output_type": "execute_result"
    }
   ],
   "source": [
    "food_df['Location'].unique()"
   ]
  },
  {
   "cell_type": "code",
   "execution_count": 55,
   "id": "02d98cab-3b41-488d-a206-e3ec418bee9c",
   "metadata": {},
   "outputs": [
    {
     "ename": "TypeError",
     "evalue": "'float' object is not iterable",
     "output_type": "error",
     "traceback": [
      "\u001b[1;31m---------------------------------------------------------------------------\u001b[0m",
      "\u001b[1;31mTypeError\u001b[0m                                 Traceback (most recent call last)",
      "Cell \u001b[1;32mIn[55], line 12\u001b[0m\n\u001b[0;32m     10\u001b[0m \u001b[38;5;66;03m# לולאה להוספת הנושאים הראשיים\u001b[39;00m\n\u001b[0;32m     11\u001b[0m \u001b[38;5;28;01mfor\u001b[39;00m row \u001b[38;5;129;01min\u001b[39;00m food_df[\u001b[38;5;124m'\u001b[39m\u001b[38;5;124mLocation\u001b[39m\u001b[38;5;124m'\u001b[39m]:\n\u001b[1;32m---> 12\u001b[0m     \u001b[38;5;28;01mfor\u001b[39;00m item \u001b[38;5;129;01min\u001b[39;00m row:\n\u001b[0;32m     13\u001b[0m         \u001b[38;5;28;01mif\u001b[39;00m item\u001b[38;5;241m.\u001b[39mstrip() \u001b[38;5;129;01mnot\u001b[39;00m \u001b[38;5;129;01min\u001b[39;00m main_topics:\n\u001b[0;32m     14\u001b[0m             main_topics\u001b[38;5;241m.\u001b[39mappend(item\u001b[38;5;241m.\u001b[39mstrip())\n",
      "\u001b[1;31mTypeError\u001b[0m: 'float' object is not iterable"
     ]
    }
   ],
   "source": [
    "# יצירת DataFrame מהמערך הדוגמה\n",
    "food_df = pd.DataFrame(food_df, columns=['Location'])\n",
    "\n",
    "# פיצול הנתונים בתוך כל תא בהתאם לנקודות פסיק\n",
    "food_df['Location'] = food_df['Location'].str.split(';')\n",
    "\n",
    "# יצירת רשימה ריקה לאחסון כל נושא ראשי חדש\n",
    "main_topics = []\n",
    "\n",
    "# לולאה להוספת הנושאים הראשיים\n",
    "for row in food_df['Location']:\n",
    "    for item in row:\n",
    "        if item.strip() not in main_topics:\n",
    "            main_topics.append(item.strip())\n",
    "\n",
    "# מיון הרשימה\n",
    "main_topics.sort()\n",
    "\n",
    "# הדפסת הרשימה המסודרת\n",
    "print(main_topics)"
   ]
  },
  {
   "cell_type": "code",
   "execution_count": 52,
   "id": "fa57eeed-bc77-4c06-b544-0e82a1ae6326",
   "metadata": {},
   "outputs": [
    {
     "name": "stdout",
     "output_type": "stream",
     "text": [
      "['Store; Unknown' 'Restaurant; Private Home/Residence; Camp'\n",
      " 'Grocery Store; School/College/University'\n",
      " 'Private Home/Residence; Catering Service; Office/Indoor Workplace'\n",
      " 'Fast Food Restaurant'\n",
      " 'Fast Food Restaurant; Private Home/Residence; Grocery Store'\n",
      " 'Fast Food Restaurant; Private Home/Residence'\n",
      " 'Fast Food Restaurant; Restaurant'\n",
      " 'School/College/University; Prison/Jail'\n",
      " 'Catering Service; Office/Indoor Workplace'\n",
      " 'Fast Food Restaurant; Catering Service'\n",
      " 'Fast Food Restaurant; Restaurant; Private Home/Residence'\n",
      " 'Restaurant; Restaurant; Private Home/Residence; Banquet Facility; Catering Service'\n",
      " 'Fast Food Restaurant; Fair/Festival; School/College/University'\n",
      " 'Restaurant; Office/Indoor Workplace; School/College/University'\n",
      " 'Fast Food Restaurant; Grocery Store'\n",
      " 'Restaurant; Banquet Facility; Grocery Store'\n",
      " 'Private Home/Residence; Banquet Facility; Catering Service; Fair/Festival; Grocery Store'\n",
      " 'Fair/Festival; Prison/Jail'\n",
      " 'Fast Food Restaurant; Restaurant; Restaurant; Private Home/Residence']\n"
     ]
    }
   ],
   "source": [
    "\n",
    "# קבוע המכיל את המערך המקורי\n",
    "original_array = np.array(['Store; Unknown', 'Restaurant; Private Home/Residence; Camp', 'Grocery Store; School/College/University', 'Private Home/Residence; Catering Service; Office/Indoor Workplace', 'Fast Food Restaurant', 'Fast Food Restaurant; Private Home/Residence; Grocery Store', 'Fast Food Restaurant; Private Home/Residence', 'Fast Food Restaurant; Restaurant', 'School/College/University; Prison/Jail', 'Catering Service; Office/Indoor Workplace', 'Fast Food Restaurant; Catering Service', 'Fast Food Restaurant; Restaurant; Private Home/Residence', 'Restaurant; Restaurant; Private Home/Residence; Banquet Facility; Catering Service', 'Fast Food Restaurant; Fair/Festival; School/College/University', 'Restaurant; Office/Indoor Workplace; School/College/University', 'Fast Food Restaurant; Grocery Store', 'Restaurant; Banquet Facility; Grocery Store', 'Private Home/Residence; Banquet Facility; Catering Service; Fair/Festival; Grocery Store', 'Fair/Festival; Prison/Jail', 'Fast Food Restaurant; Restaurant; Restaurant; Private Home/Residence'])\n",
    "\n",
    "# מחליף את המילה \"Restaurant\" ב-\"Restaurant\"\n",
    "for i in range(len(original_array)):\n",
    "    if 'Restaurant' in original_array[i]:\n",
    "        original_array[i] = original_array[i].replace('Restaurant', 'Restaurant')\n",
    "\n",
    "\n",
    "# מחליף את המילה \"Fast Food\" ב-\"Fast Food\"\n",
    "for i in range(len(original_array)):\n",
    "    if 'Fast Food' in original_array[i]:\n",
    "        original_array[i] = original_array[i].replace('Fast Food', 'Fast Food')\n",
    "\n",
    "# מחליף את המילה \"Private Home\" ב-\"Private Home\"\n",
    "for i in range(len(original_array)):\n",
    "    if 'Private Home' in original_array[i]:\n",
    "        original_array[i] = original_array[i].replace('Private Home', 'Private Home')\n",
    "\n",
    "# מדפיס את המערך המעודכן\n",
    "print(original_array)"
   ]
  },
  {
   "cell_type": "code",
   "execution_count": 20,
   "id": "4660c601-b98a-49e7-a334-98b7f2a26905",
   "metadata": {
    "tags": []
   },
   "outputs": [
    {
     "data": {
      "text/plain": [
       "4376"
      ]
     },
     "execution_count": 20,
     "metadata": {},
     "output_type": "execute_result"
    }
   ],
   "source": [
    "food_df['Food'].isnull().sum()\n",
    "# עמודה מספר 5 הצגת מספר הערכים הריקים"
   ]
  },
  {
   "cell_type": "code",
   "execution_count": 21,
   "id": "5a534b7a-4fb4-4973-8478-885a9c4a17d5",
   "metadata": {
    "tags": []
   },
   "outputs": [
    {
     "data": {
      "text/plain": [
       "array(['Fish, Ahi', 'Lasagna, Unspecified; Eggs, Other', nan, ...,\n",
       "       'Meal Replacement Powder', 'Foie Gras', 'Cookies, Chocolate Chip'],\n",
       "      dtype=object)"
      ]
     },
     "execution_count": 21,
     "metadata": {},
     "output_type": "execute_result"
    }
   ],
   "source": [
    "food_df['Food'].unique()"
   ]
  },
  {
   "cell_type": "code",
   "execution_count": 22,
   "id": "7f91d641-5170-417d-9d2f-b91ef8e0f8ec",
   "metadata": {
    "tags": []
   },
   "outputs": [
    {
     "data": {
      "text/plain": [
       "9127"
      ]
     },
     "execution_count": 22,
     "metadata": {},
     "output_type": "execute_result"
    }
   ],
   "source": [
    "food_df['Ingredient'].isnull().sum()\n",
    "# עמודה מספר 6 הצגת מספר הערכים הריקים"
   ]
  },
  {
   "cell_type": "code",
   "execution_count": 24,
   "id": "e086e98b-9da1-4788-a55e-5d74c243c6c9",
   "metadata": {
    "tags": []
   },
   "outputs": [
    {
     "data": {
      "text/plain": [
       "array([nan, 'Egg', 'Shellfish', 'Chicken', 'Dry Cereal', 'Fin Fish',\n",
       "       'Beef', 'Oysters, Raw', 'Oysters', 'Pork', 'Milk',\n",
       "       'Fin Fish; Fin Fish', 'Cheese', 'Clams', 'Egg; Egg', 'Crustacean',\n",
       "       'Chicken; Chicken', 'Leafy Green', 'Other Baked Goods',\n",
       "       'Chicken; Pork', 'Beef; Legume', 'Vine-Stalk Eg. Tomato',\n",
       "       'Cream Filling', 'Spices', 'Rice', 'Egg; Egg; Egg', 'Egg; Beef',\n",
       "       'Beef; Beef', 'Sauces/ Dressings', 'Sprouts',\n",
       "       'Leafy Green; Vine-Stalk Eg. Tomato', 'Chicken; Chicken; Chicken',\n",
       "       'Turkey', 'Fruit, Unspecified', 'Root (Eg. Potato)',\n",
       "       'Chicken; Leafy Green', 'Vine-Stalk Eg. Tomato; Spices',\n",
       "       'Vine-Stalk Eg. Tomato; Leafy Green', 'Water',\n",
       "       'Crustacean; Sauces/ Dressings', 'Bread', 'Cheese; Chicken',\n",
       "       'Cheese; Beef', 'Pasta', 'Fruit, Unspecified; Water',\n",
       "       'Milk; Root (Eg. Potato); Shellfish',\n",
       "       'Root (Eg. Potato); Root (Eg. Potato)', 'Leafy Green; Leafy Green',\n",
       "       'Beef; Pork', 'Vine-Stalk Eg. Tomato; Cream Filling', 'Melon',\n",
       "       'Leafy Green; Sauces/ Dressings', 'Beef; Sauces/ Dressings',\n",
       "       'Alcohol; Shellfish', 'Legume', 'Beef; Cheese; Sauces/ Dressings',\n",
       "       'Rice; Legume; Spices', 'Beef; Legume; Chicken',\n",
       "       'Cheese; Pork; Cheese; Pork; Turkey', 'Mussels',\n",
       "       'Cheese; Milk; Sauces/ Dressings', 'Beef; Bread; Cheese',\n",
       "       'Ice Cream', 'Legume; Spices', 'Egg; Chicken',\n",
       "       'Vine-Stalk Eg. Tomato; Sauces/ Dressings', 'Crab',\n",
       "       'Beef; Turkey; Sauces/ Dressings',\n",
       "       'Leafy Green; Leafy Green; Leafy Green', 'Legume; Rice',\n",
       "       'Mussels, Raw', 'Water Based (Eg. Drink Mix)',\n",
       "       'Cheese; Sauces/ Dressings', 'Leafy Green; Root (Eg. Potato)',\n",
       "       'Cheese; Other Baked Goods; Fruit, Unspecified',\n",
       "       'Chicken; Fruit, Unspecified', 'Conch', 'Pork; Beef', 'Butter',\n",
       "       'Cheese; Melon; Root (Eg. Potato)',\n",
       "       'Root (Eg. Potato); Sauces/ Dressings',\n",
       "       'Wraps/Tortillas; Sauces/ Dressings', 'Egg; Stuffing',\n",
       "       'Legume; Legume', 'Sauces/ Dressings; Beef', 'Ground Beef',\n",
       "       'Sauces/ Dressings; Shellfish', 'Soft Drinks',\n",
       "       'Sauces/ Dressings; Beef; Pork', 'Chicken; Egg',\n",
       "       'Beef; Leafy Green', 'Sprouts; Root (Eg. Potato)', 'Turkey; Pork',\n",
       "       'Leafy Green; Shellfish', 'Chicken; Sauces/ Dressings',\n",
       "       'Chicken; Root (Eg. Potato)', 'Cheese; Legume', 'Pork; Pork; Egg',\n",
       "       'Pork; Leafy Green', 'Shellfish; Sauces/ Dressings',\n",
       "       'Beef; Legume; Root (Eg. Potato)', 'Cheese; Bread',\n",
       "       'Turkey; Turkey; Turkey', 'Egg; Pork; Root (Eg. Potato)', 'Fungus',\n",
       "       'Nuts', 'Bread; Chicken', 'Bread; Turkey', 'Milk; Milk',\n",
       "       'Clams, Raw',\n",
       "       'Leafy Green; Vine-Stalk Eg. Tomato; Leafy Green; Vine-Stalk Eg. Tomato',\n",
       "       'Egg; Egg; Egg; Egg', 'Vine-Stalk Eg. Tomato; Leafy Green; Pasta',\n",
       "       'Root (Eg. Potato); Vine-Stalk Eg. Tomato',\n",
       "       'Vine-Stalk Eg. Tomato; Root (Eg. Potato); Pasta; Sauces/ Dressings',\n",
       "       'Steak, Sirloin', 'Cheese; Leafy Green; Root (Eg. Potato)',\n",
       "       'Produce; Beef',\n",
       "       'Ice Cream; Water Based (Eg. Drink Mix); Leafy Green',\n",
       "       'Vegetables, Unspecified', 'Bread; Root (Eg. Potato); Ice Cream',\n",
       "       'Fruit, Unspecified; Leafy Green; Vine-Stalk Eg. Tomato',\n",
       "       'Butter; Egg', 'Wraps/Tortillas; Crustacean',\n",
       "       'Egg; Leafy Green; Vine-Stalk Eg. Tomato', 'Produce',\n",
       "       'Pasta; Pasta', 'Fruit, Unspecified; Sauces/ Dressings',\n",
       "       'Fruit, Unspecified; Melon; Beef; Bread; Cheese; Leafy Green; Vine-Stalk Eg. Tomato',\n",
       "       'Beef; Spices', 'Shellfish; Crustacean',\n",
       "       'Fruit, Unspecified; Fruit, Unspecified; Cheese',\n",
       "       'Fruit, Unspecified; Leafy Green', 'Crustacean; Crustacean',\n",
       "       'Bread; Bread',\n",
       "       'Beef; Root (Eg. Potato); Chicken; Root (Eg. Potato); Chicken',\n",
       "       'Chicken; Sauces/ Dressings; Cheese; Pasta; Rice',\n",
       "       'Leafy Green; Cheese', 'Turkey; Turkey',\n",
       "       'Leafy Green; Pork; Wraps/Tortillas', 'Beef; Chicken',\n",
       "       'Milk; Milk; Butter; Cheese',\n",
       "       'Chicken; Sauces/ Dressings; Rice; Sauces/ Dressings',\n",
       "       'Duck, Liver', 'Fruit, Unspecified; Water; Turkey; Water',\n",
       "       'Turkey; Pasta', 'Tomato', 'Beef; Leafy Green; Wraps/Tortillas',\n",
       "       'Fruit, Unspecified; Ice Cream', 'Fruit, Unspecified; Melon',\n",
       "       'Bread; Cheese; Turkey',\n",
       "       'Leafy Green; Leafy Green; Leafy Green; Leafy Green',\n",
       "       'Cheese; Vine-Stalk Eg. Tomato; Sauces/ Dressings; Leafy Green; Vine-Stalk Eg. Tomato',\n",
       "       'Vine-Stalk Eg. Tomato; Pasta', 'Cheese; Leafy Green',\n",
       "       'Clams; Clams', 'Sprouts; Leafy Green', 'Beef; Beef; Beef',\n",
       "       'Water Based (Eg. Drink Mix); Water', 'Mushrooms', 'Pork; Rice',\n",
       "       'Lettuce', 'Tomato; Tomato', 'Milk, Whole Milk Unpasteurized',\n",
       "       'Lemon; Lime', 'Deli Meat, Sliced Turkey', 'Fish, Tuna',\n",
       "       'Fish, Ahi', 'Cream Sauce; Cheese, Unspecified',\n",
       "       'Lettuce; Onion; Tomato', 'Lettuce; Turkey', 'Tuna Steak',\n",
       "       'Pork, Other', 'Blueberries', 'Mexican Style Cheese', 'Fish,Other',\n",
       "       'Pepper, Ground', 'Iceberg Lettuce', 'Carrots',\n",
       "       'Bread; Cheese, Unspecified', 'Liver, Chicken', 'Fish',\n",
       "       'Tomato; Tomato; Chicken; Melon; Tomato', 'Lettuce; Sour Cream',\n",
       "       'Fish, Mahi Mahi',\n",
       "       'Leaf Lettuce; Cheddar Cheese, Pasteurized; Leaf Lettuce; Cheddar Cheese, Pasteurized',\n",
       "       'Fish; Leafy Green; Butter; Cream; Sweet Potato', 'Beans', 'Tuna',\n",
       "       'Milk, Whole Milk Unpasteurized; Milk, Whole Milk Unpasteurized',\n",
       "       'Milk, Whole Milk Pasteurized',\n",
       "       'Cucumber; Leafy Green; Onion; Tomato',\n",
       "       'Basil; Bread; Chicken; Pork, Other; Mayonnaise',\n",
       "       'Leaf Lettuce; Leafy Green', 'Liver, Beef', 'Rice, White',\n",
       "       'Grapes; Melon; Pineapple', 'Leaf Lettuce', 'Lettuce; Tomato',\n",
       "       'Alfalfa Sprout Seeds', 'Pork; Chicken',\n",
       "       'Lettuce; Leaf Lettuce; Romaine Lettuce; Lettuce',\n",
       "       'Romaine Lettuce', 'Mamey Fruit', 'Nuts; Nuts, Almonds',\n",
       "       'Goat Milk, Unpasteurized', 'Yellow Onion', 'Fish, Baracuda',\n",
       "       'Corn', 'Peppers; Celery', 'Milk, Unpasteurized', 'Venison',\n",
       "       'Carrots; Cheese; Cucumber; Egg; Leaf Lettuce; Onion; Tomato',\n",
       "       'Broccoli Salad', 'Clover Sprouts', 'Ground Turkey', 'Raw Milk',\n",
       "       'Cilantro', 'Peppers, Green; Tomato',\n",
       "       'Corn; Cilantro; Onion; Peppers; Tomato',\n",
       "       'Beef, Brisket; Gravy, Beef; Potatoes', 'Cucumber; Tomato', 'Boar',\n",
       "       'Bread, Sourdough; Broccoli; Cheese, Unspecified; Cream Cheese; Tomato',\n",
       "       'Tomato; Pork', 'Pineapple; Cantaloupe', 'Lettuce; Bread',\n",
       "       'American Cheese, Pasteurized; Lettuce; Tomatoes, Red Round',\n",
       "       'N/A; N/A', 'Cherry Tomato; Lettuce', 'Avocado', 'Beef; Beans',\n",
       "       'Strawberries; Watermelon', 'Cantaloupe', 'Fish, Grouper',\n",
       "       'Fish, Amberjack', 'Watermelon', 'Deli Meat, Sliced Ham',\n",
       "       'Yellowtail Tuna', 'Ice', 'Tahini', 'Potato',\n",
       "       'Frosting, Cream Cheese', 'Apple', 'Lemon; Lime; Lemon; Lime',\n",
       "       'Cheese, Unspecified; Lettuce', 'Green Beans', 'Ham; Turkey',\n",
       "       'Yellowfin Tuna', 'Lettuce; Lettuce', 'Ham', 'Roast Beef; Lettuce',\n",
       "       'Buffet', 'Milk, 1% Milk Pasteurized',\n",
       "       'Blueberries; Grapes; Pineapple; Strawberries', 'Strawberries',\n",
       "       'Peaches', 'Milk, Whole Milk Unpasteurized; Ground Beef', 'Tofu',\n",
       "       'Beef; Gravy, Beef', 'Lettuce; Mesclun Mix; Spinach',\n",
       "       'Beef, Raw; Beef; Beef', 'Fiddle Head Fern',\n",
       "       'Chicken; Juice; Pineapple Juice; Salt; Sugar, White', 'Beets',\n",
       "       'Tuna; Tuna', 'Cheese, Unspecified', 'Chicken; Beans; Rice, Brown',\n",
       "       'Cucumber; Iceberg Lettuce', 'Steak', 'N/A; N/A; N/A', 'Asparagus',\n",
       "       'Roast Beef', 'Buffet; Egg; Oysters; Pork, Bacon; Spinach',\n",
       "       'Butter; N/A', 'Iceberg Lettuce; Tomato', 'Beans; Rice',\n",
       "       'Cucumber', 'Green Leaf Lettuce; Romaine Lettuce; Spinach',\n",
       "       'Cheese, Unspecified; Lettuce; Tomatoes, Red Round', 'Potatoes',\n",
       "       'Turkey; Cabbage; Carrots; Sour Cream; Mayonnaise',\n",
       "       'Bread, Wheat; Swiss Cheese', 'Pickles', 'Chicken; Rice; Rice',\n",
       "       'Fish; Tuna', 'Avocado; Cream Sauce', 'Goat',\n",
       "       'Chick Peas; Egg; Eggplant', 'Papaya', 'Liver, Goose', 'Lamb',\n",
       "       'Green Leaf Lettuce', 'Rice; Salmon Heads; Tuna', 'Blackberries',\n",
       "       'Rice, White; Rice, White',\n",
       "       'Pork; Pork; Potato; Rice; Corn; Guinea Pig',\n",
       "       'Crab; Tomato; Crab; Tomato', 'Kale', 'Chicken; Steak',\n",
       "       'Ham; Gravy, Beef', 'Apple Cider, Unpasteurized', 'Bear',\n",
       "       'Ground Beef; Egg', 'Bread, White; Ham; Salami, Pork; Pepperroni',\n",
       "       'Gravy, Chicken; Turkey', 'Black Beans; Rice, Long Grain', 'Duck',\n",
       "       'Fish, Puffer Unspecified',\n",
       "       'Bread, Baguette; Cheese; Fruit, Unspecified; Olives; Pickles',\n",
       "       'Shrimp', 'Alfalfa Sprouts', 'Bread; Ham', 'Cherry Tomato',\n",
       "       'Carrots; Cucumber; Peppers, Green; Tomato',\n",
       "       'Queso Fresco, Unpasteurized; Milk, Unpasteurized',\n",
       "       'Beef, Brisket', 'Skim Milk, Pasteurized; Water', 'Gravy, Beef',\n",
       "       'Spinach', 'Fish, Wahoo', 'Lettuce; Tomatoes, Red Round',\n",
       "       'Fish, Reef Unspecified', 'Mango', 'Cheddar Cheese',\n",
       "       'Milk; Milk, 2% Milk Pasteurized', 'Onion',\n",
       "       'Fish, Salmon; Pepper, Ground', 'Chicken; Ham; Turkey', 'Cabbage',\n",
       "       'Shrimp; Pork; Egg',\n",
       "       'Chicken; Onion; Shrimp; Squash, Yellow; Zucchini',\n",
       "       'Blueberries; Cantaloupe; Honeydew Melon; Strawberries',\n",
       "       'Scallops; Shrimp', 'Coffee', 'Celery; Celery',\n",
       "       'Crawfish/Crayfish', 'Cabbage; Carrots; Pork; Mayonnaise',\n",
       "       'Fish, Tilapia; Lobster; Shrimp', 'Fish, Salmon',\n",
       "       'Romaine Lettuce; Tomato', 'Dressing Mix',\n",
       "       'Ice; Green Beans; Chicken; Mushrooms', 'Fish, Codfish',\n",
       "       'Pork, Bacon', 'Bread; Ground Beef; Mushrooms; Swiss Cheese',\n",
       "       'Fish, Snapper', 'Juice', 'Lettuce; Tomato; Lettuce; Tomato',\n",
       "       'Chicken; Banana', 'Other Cheese; Other Cheese; Other Cheese',\n",
       "       'Sour Cream', 'Basil; Bread; Oil; Tomato',\n",
       "       'Chicken; Lettuce; Tomato; Egg', 'Basil; Mozarella; Tomato',\n",
       "       'Cream; Parmesan Cheese; Pasta', 'Tomato; Ground Beef',\n",
       "       'Cucumber; Onion; Tomatoes, Roma',\n",
       "       'Egg; Sausage, Pork; Egg; Sausage, Pork', 'Salad', 'Frog Legs',\n",
       "       'Cabbage; Iceberg Lettuce', 'Fish, Kingfish', 'Fish, Jack',\n",
       "       'Pork; Peas; Rice, Yellow', 'Yogurt',\n",
       "       'Chicken; Chili Sauce; Onion; Tomato', 'Celery; Onion',\n",
       "       'Green Beans; Potatoes, Mashed',\n",
       "       'Basil; Garlic; Mushrooms; Oil; Olives, Black; Salt; Sugar, White; Pepperroni; Sauces/ Dressings',\n",
       "       'Frosting/Icing', 'Moringa Leaf Powder', 'Zucchini'], dtype=object)"
      ]
     },
     "execution_count": 24,
     "metadata": {},
     "output_type": "execute_result"
    }
   ],
   "source": [
    "food_df['Ingredient'].unique()"
   ]
  },
  {
   "cell_type": "code",
   "execution_count": 25,
   "id": "04fb3fab-1870-4155-ada3-c249b6922647",
   "metadata": {
    "tags": []
   },
   "outputs": [
    {
     "data": {
      "text/plain": [
       "192"
      ]
     },
     "execution_count": 25,
     "metadata": {},
     "output_type": "execute_result"
    }
   ],
   "source": [
    "food_df['Species'].isnull().sum()\n",
    "# עמודה מספר 7 הצגת מספר הערכים הריקים"
   ]
  },
  {
   "cell_type": "code",
   "execution_count": 38,
   "id": "1f388b8b-4339-422f-92b8-4d8df8440464",
   "metadata": {
    "tags": []
   },
   "outputs": [
    {
     "data": {
      "text/plain": [
       "array(['Scombroid toxin', 'Salmonella enterica', 'Shigella boydii',\n",
       "       'Virus', 'Clostridium perfringens', 'Staphylococcus aureus',\n",
       "       'Bacillus cereus', 'Campylobacter unknown',\n",
       "       'Vibrio parahaemolyticus', 'Ciguatoxin', 'Shigella flexneri',\n",
       "       'Shigella sonnei', 'Norovirus genogroup I',\n",
       "       'Clostridium perfringens; Staphylococcus aureus',\n",
       "       'Yersinia enterocolitica', nan, 'Streptococcus group A',\n",
       "       'Norovirus genogroup II', 'Hepatitis A', 'Norovirus unknown',\n",
       "       'Shigella boydii; Shigella sonnei', 'Giardia intestinalis',\n",
       "       'Escherichia coli, Shiga toxin-producing',\n",
       "       'Escherichia coli, Enteropathogenic', 'Campylobacter jejuni',\n",
       "       'Clostridium botulinum', 'Escherichia coli, Enterotoxigenic',\n",
       "       'Mycotoxins', 'Chemical or toxin', 'Pesticides', 'Vibrio cholerae',\n",
       "       'Trichinella spiralis', 'Listeria monocytogenes',\n",
       "       'Salmonella enterica; Salmonella enterica; Salmonella enterica',\n",
       "       'Vibrio other', 'Salmonella enterica; Campylobacter jejuni',\n",
       "       'Anisakis', 'Campylobacter other',\n",
       "       'Bacillus cereus; Clostridium perfringens',\n",
       "       'Cyclospora cayatenensis', 'Vibrio unknown',\n",
       "       'Staphylococcus aureus; Bacillus cereus',\n",
       "       'Salmonella enterica; Norovirus genogroup I',\n",
       "       'Norovirus genogroup I; Staphylococcus aureus',\n",
       "       'Salmonella enterica; Salmonella enterica',\n",
       "       'Clostridium perfringens; Bacillus cereus',\n",
       "       'Bacillus cereus; Staphylococcus aureus', 'Escherichia coli',\n",
       "       'Campylobacter jejuni; Clostridium perfringens', 'Parasite',\n",
       "       'Heavy metals', 'Histamine',\n",
       "       'Clostridium perfringens; Bacillus other',\n",
       "       'Paralytic shellfish poison; Neurotoxic shellfish poison',\n",
       "       'Escherichia coli, Shiga toxin-producing; Norovirus genogroup I',\n",
       "       'Paralytic shellfish poison',\n",
       "       'Salmonella enterica; Bacillus cereus', 'Cryptosporidium parvum',\n",
       "       'Salmonella enterica; Yersinia enterocolitica', 'Shigella unknown',\n",
       "       'Plant or herbal toxins',\n",
       "       'Staphylococcus aureus; Streptococcus group B, C or G',\n",
       "       'Listeria monocytogenes; Norovirus genogroup I',\n",
       "       'Brucella unknown', 'Campylobacter jejuni; Staphylococcus aureus',\n",
       "       'Campylobacter jejuni; Salmonella enterica',\n",
       "       'Neurotoxic shellfish poison', 'Astrovirus',\n",
       "       'Norovirus genogroup I; Shigella unknown', 'Campylobacter coli',\n",
       "       'Bacillus cereus; Clostridium perfringens; Staphylococcus aureus',\n",
       "       'Shigella dysenteriae', 'Bacterium', 'Rotavirus',\n",
       "       'Staphylococcus aureus; Bacillus cereus; Clostridium perfringens',\n",
       "       'Norovirus genogroup I; Vibrio parahaemolyticus',\n",
       "       'Norovirus genogroup I; Campylobacter other',\n",
       "       'Salmonella enterica; Norovirus genogroup II',\n",
       "       'Salmonella enterica; Salmonella enterica; Norovirus genogroup I',\n",
       "       'Campylobacter unknown; Salmonella enterica',\n",
       "       'Salmonella enterica; Escherichia coli, Enteropathogenic',\n",
       "       'Salmonella enterica; Campylobacter unknown',\n",
       "       'Norovirus unknown; Norovirus genogroup II',\n",
       "       'Escherichia coli, Shiga toxin-producing; Campylobacter jejuni',\n",
       "       'Norovirus genogroup I; Clostridium perfringens',\n",
       "       'Norovirus genogroup I; Adenovirus',\n",
       "       'Vibrio parahaemolyticus; Vibrio other', 'Campylobacter fetus',\n",
       "       'Vibrio parahaemolyticus; Vibrio cholerae; Bacterium',\n",
       "       'Norovirus genogroup I; Campylobacter jejuni',\n",
       "       'Norovirus genogroup I; Norovirus genogroup II',\n",
       "       'Salmonella enterica; Salmonella enterica; Salmonella enterica; Salmonella enterica; Salmonella enterica; Salmonella enterica',\n",
       "       'Clostridium perfringens; Salmonella enterica',\n",
       "       'Escherichia coli, Shiga toxin-producing; Cryptosporidium parvum',\n",
       "       'Clostridium perfringens; Streptococcus group A',\n",
       "       'Salmonella enterica; Clostridium perfringens; Salmonella enterica',\n",
       "       'Campylobacter jejuni; Bacillus cereus', 'Staphylococcus other',\n",
       "       'Salmonella unknown',\n",
       "       'Bacillus cereus; Clostridium perfringens; Bacterium',\n",
       "       'Salmonella other', 'Bacillus other', 'Monosodium glutamate (MSG)',\n",
       "       'Listeria unknown', 'Puffer fish tetrodotoxin',\n",
       "       'Norovirus genogroup I; Norovirus genogroup I',\n",
       "       'Norovirus genogroup II; Norovirus genogroup I',\n",
       "       'Escherichia coli, Shiga toxin-producing; Cryptosporidium unknown',\n",
       "       'Escherichia coli, Shiga toxin-producing; Escherichia coli, Shiga toxin-producing; Escherichia coli, Shiga toxin-producing',\n",
       "       'Campylobacter jejuni; Campylobacter other',\n",
       "       'Norovirus genogroup II; Adenovirus', 'Staphylococcus unknown',\n",
       "       'Cryptosporidium unknown',\n",
       "       'Salmonella enterica; Campylobacter jejuni; Campylobacter coli',\n",
       "       'Cleaning agents', 'Norovirus genogroup I; Bacillus cereus',\n",
       "       'Salmonella enterica; Salmonella unknown',\n",
       "       'Ciguatoxin; Staphylococcus aureus',\n",
       "       'Bacillus cereus; Bacillus other',\n",
       "       'Clostridium perfringens; Campylobacter jejuni', 'Norovirus',\n",
       "       'Norovirus unknown; Staphylococcus unknown',\n",
       "       'Campylobacter jejuni; Listeria monocytogenes',\n",
       "       'Enterococcus faecalis', 'Salmonella enterica; Clostridium other',\n",
       "       'Staphylococcus aureus; Bacillus cereus; Enterobacter other',\n",
       "       'Salmonella enterica; Salmonella enterica; Salmonella enterica; Salmonella enterica',\n",
       "       'Escherichia coli, Shiga toxin-producing; Escherichia coli, Shiga toxin-producing',\n",
       "       'Escherichia coli, Enteroaggregative; Escherichia coli, Enterotoxigenic; Shigella sonnei',\n",
       "       'Staphylococcus aureus; Clostridium perfringens; Salmonella enterica',\n",
       "       'Norovirus genogroup II; Norovirus genogroup II',\n",
       "       'Norovirus genogroup II; Escherichia coli, Shiga toxin-producing',\n",
       "       'Bacillus unknown', 'Campylobacter jejuni; Cryptosporidium parvum',\n",
       "       'Campylobacter unknown; Escherichia coli, Shiga toxin-producing',\n",
       "       'Escherichia coli, Enteroaggregative; Campylobacter other',\n",
       "       'Staphylococcus aureus; Clostridium perfringens', 'Unknown',\n",
       "       'Norovirus unknown; Clostridium other',\n",
       "       'Norovirus genogroup II; Norovirus genogroup II; Norovirus genogroup II',\n",
       "       'Staphylococcus aureus; Norovirus unknown',\n",
       "       'Salmonella enterica; Staphylococcus aureus; Bacillus cereus',\n",
       "       'Cryptosporidium unknown; Escherichia coli, Shiga toxin-producing; Escherichia coli, Shiga toxin-producing',\n",
       "       'Campylobacter other; Vibrio other; Vibrio cholerae',\n",
       "       'Escherichia coli, Enteroaggregative',\n",
       "       'Campylobacter other; Norovirus genogroup II',\n",
       "       'Trichinella unknown', 'Norovirus other',\n",
       "       'Norovirus genogroup II; Bacterium', 'Sapovirus', 'Campylobacter',\n",
       "       'Salmonella enterica; Escherichia coli, Shiga toxin-producing',\n",
       "       'Campylobacter jejuni; Campylobacter unknown',\n",
       "       'Campylobacter unknown; Campylobacter jejuni',\n",
       "       'Salmonella enterica; Salmonella enterica; Salmonella enterica; Salmonella enterica; Salmonella enterica; Salmonella enterica; Salmonella enterica',\n",
       "       'Salmonella enterica; Salmonella enterica; Salmonella enterica; Salmonella enterica; Salmonella enterica',\n",
       "       'Clostridium perfringens; Staphylococcus aureus; Bacillus cereus',\n",
       "       'Clostridium perfringens; Norovirus unknown',\n",
       "       'Clostridium perfringens; Clostridium perfringens',\n",
       "       'Campylobacter coli; Campylobacter jejuni',\n",
       "       'Amnesic shellfish poison', 'Salmonella',\n",
       "       'Salmonella enterica; Salmonella enterica; Salmonella enterica; Salmonella enterica; Salmonella enterica; Salmonella enterica; Salmonella enterica; Salmonella enterica; Salmonella enterica; Salmonella enterica; Salmonella enterica; Salmonella enterica; Salmonella enterica',\n",
       "       'Cryptosporidium hominis; Cryptosporidium parvum; Cryptosporidium',\n",
       "       'Campylobacter; Cryptosporidium',\n",
       "       'Cryptosporidium parvum; Cryptosporidium unknown',\n",
       "       'Bacterium; Bacillus unknown',\n",
       "       'Norovirus genogroup IV; Norovirus genogroup II',\n",
       "       'Sapovirus genogroup I',\n",
       "       'Norovirus genogroup I; Salmonella enterica', 'Bacillus',\n",
       "       'Clostridium perfringens; Norovirus genogroup II',\n",
       "       'Campylobacter jejuni; Campylobacter coli', 'Cyclospora',\n",
       "       'Norovirus genogroup II; Salmonella enterica',\n",
       "       'Campylobacter jejuni; Escherichia coli, Shiga toxin-producing; Giardia',\n",
       "       'Shigella',\n",
       "       'Escherichia coli, Enteroaggregative; Escherichia coli, Enteropathogenic',\n",
       "       'Cryptosporidium', 'Norovirus unknown; Salmonella enterica',\n",
       "       'Bacillus unknown; Clostridium perfringens',\n",
       "       'Norovirus; Norovirus genogroup II',\n",
       "       'Salmonella enterica; Escherichia coli, Shiga toxin-producing; Norovirus genogroup II; Shigella',\n",
       "       'Shigella; Escherichia coli, Shiga toxin-producing; Norovirus; Salmonella enterica',\n",
       "       'Shigella; Salmonella enterica; Escherichia coli, Shiga toxin-producing; Norovirus',\n",
       "       'Norovirus genogroup II; Norovirus', 'Staphylococcus',\n",
       "       'Salmonella enterica; Norovirus; Salmonella enterica',\n",
       "       'Giardia intestinalis; Cryptosporidium parvum',\n",
       "       'Shigella; Escherichia coli, Shiga toxin-producing; Escherichia coli, Shiga toxin-producing; Salmonella enterica; Salmonella enterica',\n",
       "       'Sapovirus unknown',\n",
       "       'Campylobacter jejuni; Escherichia coli, Shiga toxin-producing',\n",
       "       'Trichinella', 'Vibrio vulnificus'], dtype=object)"
      ]
     },
     "execution_count": 38,
     "metadata": {},
     "output_type": "execute_result"
    }
   ],
   "source": [
    "food_df['Species'].unique()"
   ]
  },
  {
   "cell_type": "code",
   "execution_count": 44,
   "id": "dfed6e6b-ed79-4492-9ecf-701a386644f6",
   "metadata": {
    "tags": []
   },
   "outputs": [
    {
     "data": {
      "text/plain": [
       "7208"
      ]
     },
     "execution_count": 44,
     "metadata": {},
     "output_type": "execute_result"
    }
   ],
   "source": [
    "food_df['Serotype/Genotype'].isnull().sum()\n",
    "# עמודה מספר 8 הצגת מספר הערכים הריקים"
   ]
  },
  {
   "cell_type": "code",
   "execution_count": 45,
   "id": "f9707273-8331-4637-bfe8-d42c6ae5177e",
   "metadata": {
    "tags": []
   },
   "outputs": [
    {
     "data": {
      "text/plain": [
       "array([nan, 'Enteritidis', 'Serotype 6', 'Typhimurium', 'Group D1',\n",
       "       'Serotype 2 Unspecified', 'Litchfield', 'Unknown', 'Montevideo',\n",
       "       'Heidelberg', 'Coeln', 'Agona', 'Brandenburg', 'O157:H7',\n",
       "       'Infantis', 'Braenderup', 'GII_2', 'Baildon', 'Oranienburg',\n",
       "       'Newport', 'O157:NM (H-)', 'Group B', 'O6', 'Cubana', 'Javiana',\n",
       "       'Group E1', 'Typhimurium var Cope', 'Schwarzengrund', 'O1',\n",
       "       'Group D2', 'Group C1', 'Infantis; Heidelberg; Adelaide',\n",
       "       'Thompson', 'Muenchen', 'Mbandaka', 'Anatum', 'Typhi', 'Adelaide',\n",
       "       'Hadar', 'Newbrunswick', 'Give', 'Hartford', 'Saintpaul', 'Other',\n",
       "       'Miami', 'O111', 'GI_1', 'Typhimurium; Newport', 'Stanley',\n",
       "       'Muenchen; Enteritidis', 'Norwich', 'Havana', 'Poona', 'Java',\n",
       "       'Group C2', 'Group A', 'O103', 'Reading', 'Berta', 'Muenster',\n",
       "       'Derby', 'Senftenberg', 'Bovismorbificans', 'Virchow', 'Kottbus',\n",
       "       'Weltevreden', 'Enteritidis; Brandenburg', 'Serotype 2a', 'Uganda',\n",
       "       'Panama', 'Mbandaka; Javiana; Kentucky', 'Johannesburg',\n",
       "       'Oritamerin', 'Serotype 9', 'Unknown; Unknown', 'Rubislaw',\n",
       "       'Infantis; Typhimurium', 'O27', 'Choleraesuis',\n",
       "       'Muenchen; Heidelberg', 'Serotype 3 Unspecified', 'Kiambu', 'Lika',\n",
       "       'Newport; Muenster; Heidelberg', 'London', 'Group L', 'Chester',\n",
       "       'Bareilly', 'GII_4 Other', 'GII_3 ', 'Amager', 'Ohio',\n",
       "       'Javiana; Typhimurium; Thompson; Muenchen; Unknown; Anatum',\n",
       "       'Roterberg', 'I 4,[5],12:i:-', 'Chincol', 'Paratyphi B', 'Agama',\n",
       "       'Mono', 'Infantis; ; London', 'Grumpensis',\n",
       "       'Heidelberg; Saintpaul; Brandenburg', 'Manhattan',\n",
       "       'Newport; Typhimurium', 'O45',\n",
       "       'Enteritidis; Typhimurium; Kentucky', 'Dublin',\n",
       "       'Newport; Meleagridis', 'Tallahassee', 'Heidelberg; Agona', 'O26',\n",
       "       'O121', 'Potsdam', 'Tennessee', 'Wandsworth; Typhimurium',\n",
       "       'Typhimurium var Cope; Hadar', 'London; Typhimurium',\n",
       "       'IV 50:z4,z23:-', 'Valdosta', 'O121; O26; O84',\n",
       "       'Enteritidis; Unknown', 'Blockley', 'Sandiego',\n",
       "       'Typhimurium; Typhimurium var Cope', 'Barranquilla', 'Aberdeen',\n",
       "       'Braenderup; Bovismorbificans; Javiana; Thompson; Rubislaw; Barranquilla',\n",
       "       'Rissen', 'GII_12', 'GII_4 Minerva (2006)', 'Carrau',\n",
       "       'GII_4 New Orleans (2009)', 'Heidelberg; Infantis',\n",
       "       'Potsdam; Typhimurium; Hvittingfoss; Anfo',\n",
       "       'Schwarzengrund; Typhimurium var Cope', 'O157:H7; O121', 'GII_6',\n",
       "       'O6:H16', 'GII_4 Untypeable', 'GI_2', 'GII_4 Untypeable; GII_12',\n",
       "       'GII_4 New Orleans (2009); Unknown', 'O26:H11', 'O157',\n",
       "       'Hvittingfoss', 'O145', 'Hartford; Baildon',\n",
       "       'Typhimurium var Cope; Typhimurium', 'Thompson; Oranienburg',\n",
       "       'O121:H19', 'O157:H7; O157:NM (H-)', 'GI_4', 'GII_7',\n",
       "       'O103:H2; O145:NM', 'O157:H7; O84:NM', 'Eastbourne', 'GI_3B',\n",
       "       'GII_1', 'Pomona', 'O26:NM', 'Agona; Derby', 'GI_6', 'O111; O26',\n",
       "       'Lagos', 'O111:NM', 'GII_4 Apeldoorn (2008)', 'Bareilly; Nchanga',\n",
       "       'GI_7', 'Agona; Infantis; Derby', 'Typhimurium; I 4,[5],12:i:-',\n",
       "       'Utah', 'Bredeney', 'Wimborne', 'Muenchen; Unknown',\n",
       "       'Braenderup; Worthington',\n",
       "       'Anatum; Adelaide; Braenderup; Cerro; Heidelberg; Mbandaka; Newport',\n",
       "       'Adelaide; Anatum; Braenderup; Cerro; Litchfield',\n",
       "       'GII_4 New Orleans (2009); GII_4 New Orleans (2009)',\n",
       "       'GII_4 Sydney (2012)', 'GII_4 Sydney (2012); GII_4 Sydney (2012)',\n",
       "       'GII_6; GII_6', 'Stanley; Stanley', 'GI_9', 'GII_5',\n",
       "       'Montevideo; Mbandaka', 'Subspecies I; Typhimurium',\n",
       "       'GI_6; GII_4 Sydney (2012)', 'Typhimurium; Typhimurium',\n",
       "       'Mississippi', 'Livingstone',\n",
       "       'Typhimurium; Uganda; I 4,[5],12:i:-; Typhimurium; Uganda; Chailey; I 4,[5],12:i:-; Infantis; Typhimurium; Typhimurium; Uganda; Typhimurium; Anatum',\n",
       "       'Lomalinda', 'IIaA17G2R1', 'IIaA15G2R1', 'GI_3',\n",
       "       'Newport; Hartford; Oranienburg', 'GII_13',\n",
       "       'GII_7; GII_4 Sydney (2012)', 'Alachua', 'O126', 'GII_14',\n",
       "       'Enteritidis; Enteritidis', 'subgroup D', 'Minnesota',\n",
       "       'Subspecies I', 'Urbana', 'I 4,[5],12:i:-; I 4,[5],12:i:-',\n",
       "       'Singapore', 'Anatum; I 4,[5],12:i:-', 'Group D1; Poona', 'Carmel',\n",
       "       'IIaA16G3R1', 'Oslo', 'Newport; Group C1', 'Newport; Javiana',\n",
       "       'Sundsvall', 'Chailey; I 4,[5],12:i:-', 'O103:H2', 'Derby; Agona',\n",
       "       'Paratyphi B; Weltevreden', 'GI_5', 'Oranienburg; Oranienburg',\n",
       "       'I 4,[5],12:i:-; Infantis', 'GII_17', 'Newport; Bournemouth',\n",
       "       'GII_1; Unknown', 'Heidelberg; ; Heidelberg', 'Assemblage B',\n",
       "       'GII_17 Kawasaki (2014)', 'Saintpaul; Oranienburg',\n",
       "       'O157:H7; Typhimurium; Enteritidis', 'Panama; Unknown',\n",
       "       'Uganda; Newport'], dtype=object)"
      ]
     },
     "execution_count": 45,
     "metadata": {},
     "output_type": "execute_result"
    }
   ],
   "source": [
    "food_df['Serotype/Genotype'].unique()"
   ]
  },
  {
   "cell_type": "code",
   "execution_count": 19,
   "id": "6a706cc0-c5df-410c-921a-a12bb58a1a9e",
   "metadata": {},
   "outputs": [
    {
     "data": {
      "text/plain": [
       "4430"
      ]
     },
     "execution_count": 19,
     "metadata": {},
     "output_type": "execute_result"
    }
   ],
   "source": [
    "food_df['Status'].isnull().sum()\n",
    "# עמודה מספר 9 הצגת מספר הערכים הריקים"
   ]
  },
  {
   "cell_type": "code",
   "execution_count": 20,
   "id": "ab236335-cd43-42c5-a22d-accd7dac40a8",
   "metadata": {},
   "outputs": [
    {
     "data": {
      "text/plain": [
       "array([nan, 'Confirmed', 'Suspected', 'Suspected; Suspected',\n",
       "       'Confirmed; Confirmed', 'Confirmed; Suspected',\n",
       "       'Confirmed; Confirmed; Confirmed',\n",
       "       'Confirmed; Suspected; Suspected',\n",
       "       'Suspected; Suspected; Suspected',\n",
       "       'Confirmed; Confirmed; Suspected', 'Suspected; Confirmed',\n",
       "       'Confirmed; Confirmed; Confirmed; Confirmed; Confirmed; Confirmed',\n",
       "       'Confirmed; Confirmed; Suspected; Confirmed',\n",
       "       'Suspected; Confirmed; Confirmed',\n",
       "       'Confirmed; Suspected; Confirmed; Confirmed; Confirmed; Confirmed; Confirmed',\n",
       "       'Confirmed; Confirmed; Confirmed; Confirmed; Suspected',\n",
       "       'Confirmed; Confirmed; Confirmed; Confirmed; Confirmed; Suspected; Suspected; Suspected; Suspected; Suspected; Suspected; Suspected; Suspected',\n",
       "       'Confirmed; Suspected; Confirmed',\n",
       "       'Suspected; Suspected; Confirmed; Suspected',\n",
       "       'Confirmed; Confirmed; Suspected; Suspected',\n",
       "       'Suspected; Suspected; Suspected; Suspected',\n",
       "       'Suspected; Suspected; Suspected; Suspected; Suspected',\n",
       "       'Suspected; Suspected; Confirmed; Suspected; Suspected; Confirmed'],\n",
       "      dtype=object)"
      ]
     },
     "execution_count": 20,
     "metadata": {},
     "output_type": "execute_result"
    }
   ],
   "source": [
    "food_df['Status'].unique()"
   ]
  },
  {
   "cell_type": "code",
   "execution_count": 30,
   "id": "2d7ad144-c9a9-480b-8db9-79e998f46b18",
   "metadata": {},
   "outputs": [],
   "source": [
    "def categorize_status(status):\n",
    "    if pd.isna(status): \n",
    "        return np.nan\n",
    "    elif 'Confirmed' in status: \n",
    "        return 'Confirmed'\n",
    "    else: \n",
    "        return 'Suspect'\n",
    "\n",
    "food_df['Status'] = food_df['Status'].apply(categorize_status)"
   ]
  },
  {
   "cell_type": "code",
   "execution_count": 31,
   "id": "d0ccfba7-eafe-4043-afc8-025cb8e7ee84",
   "metadata": {},
   "outputs": [
    {
     "data": {
      "text/plain": [
       "array([nan, 'Confirmed', 'Suspect'], dtype=object)"
      ]
     },
     "execution_count": 31,
     "metadata": {},
     "output_type": "execute_result"
    }
   ],
   "source": [
    "food_df['Status'].unique()"
   ]
  },
  {
   "cell_type": "code",
   "execution_count": 33,
   "id": "45aaeb46-0a9b-444b-a0b8-a436220ffbf1",
   "metadata": {},
   "outputs": [
    {
     "data": {
      "image/png": "[encoded data removed]",
      "text/plain": [
       "<Figure size 800x600 with 1 Axes>"
      ]
     },
     "metadata": {},
     "output_type": "display_data"
    }
   ],
   "source": [
    "plt.figure(figsize=(8, 6))\n",
    "sns.countplot(data=food_df, x='Status')\n",
    "plt.title('Count of Status')\n",
    "plt.xlabel('Status')\n",
    "plt.ylabel('Count')\n",
    "plt.show()"
   ]
  },
  {
   "cell_type": "code",
   "execution_count": 34,
   "id": "4d597c84-dee2-4f94-9419-6daba175632e",
   "metadata": {},
   "outputs": [
    {
     "data": {
      "text/html": [
       "<div>\n",
       "<style scoped>\n",
       "    .dataframe tbody tr th:only-of-type {\n",
       "        vertical-align: middle;\n",
       "    }\n",
       "\n",
       "    .dataframe tbody tr th {\n",
       "        vertical-align: top;\n",
       "    }\n",
       "\n",
       "    .dataframe thead th {\n",
       "        text-align: right;\n",
       "    }\n",
       "</style>\n",
       "<table border=\"1\" class=\"dataframe\">\n",
       "  <thead>\n",
       "    <tr style=\"text-align: right;\">\n",
       "      <th></th>\n",
       "      <th>Status</th>\n",
       "    </tr>\n",
       "  </thead>\n",
       "  <tbody>\n",
       "    <tr>\n",
       "      <th>count</th>\n",
       "      <td>12500</td>\n",
       "    </tr>\n",
       "    <tr>\n",
       "      <th>unique</th>\n",
       "      <td>2</td>\n",
       "    </tr>\n",
       "    <tr>\n",
       "      <th>top</th>\n",
       "      <td>Confirmed</td>\n",
       "    </tr>\n",
       "    <tr>\n",
       "      <th>freq</th>\n",
       "      <td>8117</td>\n",
       "    </tr>\n",
       "  </tbody>\n",
       "</table>\n",
       "</div>"
      ],
      "text/plain": [
       "           Status\n",
       "count       12500\n",
       "unique          2\n",
       "top     Confirmed\n",
       "freq         8117"
      ]
     },
     "execution_count": 34,
     "metadata": {},
     "output_type": "execute_result"
    }
   ],
   "source": [
    "food_df[['Status']].describe()"
   ]
  },
  {
   "cell_type": "code",
   "execution_count": 36,
   "id": "b848e466-6b0b-4269-b73c-04a82f0b2db5",
   "metadata": {},
   "outputs": [],
   "source": [
    "food_df['Status'] = food_df['Status'].fillna('Confirmed', inplace = False)"
   ]
  },
  {
   "cell_type": "code",
   "execution_count": 38,
   "id": "9c80ccf3-5fc1-40b2-a2c4-c46d0082f545",
   "metadata": {},
   "outputs": [
    {
     "data": {
      "text/plain": [
       "0"
      ]
     },
     "execution_count": 38,
     "metadata": {},
     "output_type": "execute_result"
    }
   ],
   "source": [
    "food_df['Status'].isnull().sum()"
   ]
  },
  {
   "cell_type": "code",
   "execution_count": 29,
   "id": "0dd412a9-e7db-47aa-8d49-c811d43dd64d",
   "metadata": {
    "tags": []
   },
   "outputs": [
    {
     "data": {
      "text/plain": [
       "0"
      ]
     },
     "execution_count": 29,
     "metadata": {},
     "output_type": "execute_result"
    }
   ],
   "source": [
    "food_df['Illnesses'].isnull().sum()\n",
    "# עמודה מספר 10 ללא ערכים ריקים"
   ]
  },
  {
   "cell_type": "code",
   "execution_count": 30,
   "id": "b581feae-eec9-4a71-8da3-dc1af201f112",
   "metadata": {
    "tags": []
   },
   "outputs": [
    {
     "data": {
      "text/plain": [
       "array([   4,   26,   25,    3,    2,    5,   47,    8,   79,   34,   10,\n",
       "          6,   39,   35,   18,   50,   43,   15,  101,   13,   16,   45,\n",
       "          9,   29,   48,   24,    7,   44,  103,   30,   20,   28,  125,\n",
       "         23,   56,   72,   11,   40,   27,   12,   46,   53,   65,   71,\n",
       "        209,   22,   51,  264,  400,   93,   36,  916,  204,   14,  300,\n",
       "         19,  134,   17,   49,   63,   58,   32,   80,   62,   86,  143,\n",
       "         21,  200,   33,   38,   41,  128,   66,  318,  270,  258,  250,\n",
       "         57,   78,  100,   31,   42,   92,  118,  112,   83,   37,   81,\n",
       "        104,  245,   54,  140,   77,  238,   94,  190,  151,   70,  127,\n",
       "         85,  177,   52,   73,   55,  256,   82,  187,  126,  460,  157,\n",
       "         60,  321,  280,   88,   87,  110,  206,  297,  108,  150,  494,\n",
       "        333,   59,  259,  135,   74,   75,   99,  117,   76,  106,  142,\n",
       "         96,  107,   95,  736,  132,   89,   68,  221,  235,  188,   61,\n",
       "         97,  148,  166,  811,  223,  552,  231,  329,   64,  317,  886,\n",
       "        136,  113,  202,  105,  404,   91,   67,  170,  130,   69,  196,\n",
       "        116,  700,  338,  201,  239,  119,  219,  162,  215,  159,  146,\n",
       "        178,  510,  950,  240,   90,  111,  269,  133,  181,  276,  227,\n",
       "        122,  517,   84,  144,  167,  880,  115,  102,  425,  160,  380,\n",
       "        131,  214,  137,  155,  429,  212,  225,  220,  156,  592,  124,\n",
       "        304,  114,  121,  138,  418,  495,  249,  161,  198, 1644,  199,\n",
       "        715,  192,  766,  120,   98,  401,  145,  802,  526,  168,  191,\n",
       "       1500,  509,  471,  268,  344,  714,  594,  164,  184,  189,  350,\n",
       "        272,  205,  314,  139, 1939,  123,  207,  152,  210,  312,  147,\n",
       "        158,  141,  180,  237,  244,  261,  129,  365,  217,  282,  634,\n",
       "        175,  294,  216,  275,  176,  283,  907,  252], dtype=int64)"
      ]
     },
     "execution_count": 30,
     "metadata": {},
     "output_type": "execute_result"
    }
   ],
   "source": [
    "food_df['Illnesses'].unique()"
   ]
  },
  {
   "cell_type": "code",
   "execution_count": 46,
   "id": "b36a9d5e-6a88-483a-a6c9-e1139350d418",
   "metadata": {
    "tags": []
   },
   "outputs": [
    {
     "data": {
      "text/plain": [
       "395"
      ]
     },
     "execution_count": 46,
     "metadata": {},
     "output_type": "execute_result"
    }
   ],
   "source": [
    "food_df['Hospitalizations'].isnull().sum()\n",
    "# עמודה מספר 11 הצגת מספר הערכים הריקים"
   ]
  },
  {
   "cell_type": "code",
   "execution_count": 35,
   "id": "a3c4725a-7f3c-4300-a54f-2418f19769e6",
   "metadata": {
    "tags": []
   },
   "outputs": [
    {
     "data": {
      "text/plain": [
       "array([  0.,   3.,  nan,   2.,   1.,   6.,   4.,  60.,   5.,   7.,  47.,\n",
       "        10.,  12.,  14.,  24.,  11.,  17.,  31.,   9., 101.,  13.,  16.,\n",
       "         8.,  15.,  23.,  29.,  30.,  19.,  18.,  34.,  22.,  58.,  36.,\n",
       "        43.,  20.,  35.,  25., 129.,  56.,  39.,  21., 103.,  55.,  27.,\n",
       "       108., 308.,  32.,  71., 166.,  52.,  28.,  50., 143.,  33.,  94.,\n",
       "        40.,  70., 200.,  48., 204.,  49.])"
      ]
     },
     "execution_count": 35,
     "metadata": {},
     "output_type": "execute_result"
    }
   ],
   "source": [
    "food_df['Hospitalizations'].unique()"
   ]
  },
  {
   "cell_type": "code",
   "execution_count": 7,
   "id": "4c76fdef-b80e-4a1a-a4a8-664237310432",
   "metadata": {
    "tags": []
   },
   "outputs": [
    {
     "data": {
      "image/png": "[encoded data removed]",
      "text/plain": [
       "<Figure size 1000x1000 with 1 Axes>"
      ]
     },
     "metadata": {},
     "output_type": "display_data"
    }
   ],
   "source": [
    "filtered_hospitalizations = food_df['Hospitalizations'][food_df['Hospitalizations'] < 20]\n",
    "plt.figure(figsize=(10, 10))\n",
    "plt.hist(filtered_hospitalizations, bins=120, color='skyblue', edgecolor='black', density= True)\n",
    "plt.title('Density plot of Hospitalizations below 20')\n",
    "plt.xlabel('Hospitalizations')\n",
    "plt.ylabel('Frequency')\n",
    "plt.grid(True)\n",
    "plt.show()"
   ]
  },
  {
   "cell_type": "code",
   "execution_count": 8,
   "id": "002c1626-f72f-4244-b950-0218dac9f1a9",
   "metadata": {},
   "outputs": [
    {
     "name": "stdout",
     "output_type": "stream",
     "text": [
      "הערך המוערך של p: 0.5134714167357084\n",
      "   Year    Month       State                Location  \\\n",
      "0  1998  January  California              Restaurant   \n",
      "1  1998  January  California                     NaN   \n",
      "2  1998  January  California              Restaurant   \n",
      "3  1998  January  California              Restaurant   \n",
      "4  1998  January  California  Private Home/Residence   \n",
      "\n",
      "                                Food Ingredient              Species  \\\n",
      "0                                NaN        NaN                  NaN   \n",
      "1                            Custard        NaN                  NaN   \n",
      "2                                NaN        NaN                  NaN   \n",
      "3                          Fish, Ahi        NaN      Scombroid toxin   \n",
      "4  Lasagna, Unspecified; Eggs, Other        NaN  Salmonella enterica   \n",
      "\n",
      "  Serotype/Genotype     Status  Illnesses  Hospitalizations  Fatalities  \n",
      "0               NaN        NaN         20               0.0         0.0  \n",
      "1               NaN        NaN        112               0.0         0.0  \n",
      "2               NaN        NaN         35               0.0         0.0  \n",
      "3               NaN  Confirmed          4               0.0         0.0  \n",
      "4       Enteritidis  Confirmed         26               3.0         0.0  \n"
     ]
    },
    {
     "name": "stderr",
     "output_type": "stream",
     "text": [
      "C:\\Users\\NouBe\\AppData\\Local\\Temp\\ipykernel_31252\\3507913081.py:16: SettingWithCopyWarning: \n",
      "A value is trying to be set on a copy of a slice from a DataFrame\n",
      "\n",
      "See the caveats in the documentation: https://pandas.pydata.org/pandas-docs/stable/user_guide/indexing.html#returning-a-view-versus-a-copy\n",
      "  series.loc[missing_indices] = geometric_samples\n"
     ]
    }
   ],
   "source": [
    "# חישוב הממוצע של העמודה 'Hospitalizations', תוך התעלמות מערכי NaN\n",
    "mean_hospitalizations = food_df['Hospitalizations'].mean()\n",
    "\n",
    "# הערכת p על סמך הממוצע של 'Hospitalizations'\n",
    "p_estimate = 1 / (mean_hospitalizations + 1)\n",
    "\n",
    "print(f\"הערך המוערך של p: {p_estimate}\")\n",
    "\n",
    "# פונקציה למילוי ערכים חסרים באמצעות התפלגות גיאומטרית\n",
    "def fill_missing_geometric(series, p):\n",
    "    # זיהוי הערכים החסרים\n",
    "    missing_indices = series[series.isnull()].index\n",
    "    # יצירת דגימות גיאומטריות\n",
    "    geometric_samples = np.random.geometric(p, size=len(missing_indices))\n",
    "    # מילוי הערכים החסרים עם הדגימות הגיאומטריות\n",
    "    series.loc[missing_indices] = geometric_samples\n",
    "    return series\n",
    "\n",
    "# מילוי הערכים החסרים בעמודה \"Hospitalizations\" באמצעות p המוערך\n",
    "food_df['Hospitalizations'] = fill_missing_geometric(food_df['Hospitalizations'], p_estimate)\n",
    "\n",
    "# הצגת השורות הראשונות לאחר מילוי הערכים החסרים\n",
    "print(food_df.head())\n"
   ]
  },
  {
   "cell_type": "code",
   "execution_count": 9,
   "id": "72e2373b-6c06-4563-99c0-886b81e3b516",
   "metadata": {},
   "outputs": [
    {
     "name": "stdout",
     "output_type": "stream",
     "text": [
      "   Year    Month       State                Location  \\\n",
      "0  1998  January  California              Restaurant   \n",
      "1  1998  January  California                     NaN   \n",
      "2  1998  January  California              Restaurant   \n",
      "3  1998  January  California              Restaurant   \n",
      "4  1998  January  California  Private Home/Residence   \n",
      "\n",
      "                                Food Ingredient              Species  \\\n",
      "0                                NaN        NaN                  NaN   \n",
      "1                            Custard        NaN                  NaN   \n",
      "2                                NaN        NaN                  NaN   \n",
      "3                          Fish, Ahi        NaN      Scombroid toxin   \n",
      "4  Lasagna, Unspecified; Eggs, Other        NaN  Salmonella enterica   \n",
      "\n",
      "  Serotype/Genotype     Status  Illnesses  Hospitalizations  Fatalities  \n",
      "0               NaN        NaN         20               0.0         0.0  \n",
      "1               NaN        NaN        112               0.0         0.0  \n",
      "2               NaN        NaN         35               0.0         0.0  \n",
      "3               NaN  Confirmed          4               0.0         0.0  \n",
      "4       Enteritidis  Confirmed         26               3.0         0.0  \n"
     ]
    },
    {
     "name": "stderr",
     "output_type": "stream",
     "text": [
      "C:\\Users\\NouBe\\AppData\\Local\\Temp\\ipykernel_31252\\3185402328.py:11: SettingWithCopyWarning: \n",
      "A value is trying to be set on a copy of a slice from a DataFrame\n",
      "\n",
      "See the caveats in the documentation: https://pandas.pydata.org/pandas-docs/stable/user_guide/indexing.html#returning-a-view-versus-a-copy\n",
      "  series.loc[missing_indices] = geometric_samples\n"
     ]
    }
   ],
   "source": [
    "# Define the probability of success in a single trial\n",
    "p =  0.270654020385051\n",
    "\n",
    "# Function to fill missing values using geometric distribution\n",
    "def fill_missing_geometric(series, p):\n",
    "    # Identify missing values\n",
    "    missing_indices = series[series.isnull()].index\n",
    "    # Generate geometric samples\n",
    "    geometric_samples = np.random.geometric(p, size=len(missing_indices))\n",
    "    # Fill missing values with geometric samples\n",
    "    series.loc[missing_indices] = geometric_samples\n",
    "    return series\n",
    "\n",
    "# Fill missing values in the \"Hospitalizations\" column\n",
    "food_df['Hospitalizations'] = fill_missing_geometric(food_df['Hospitalizations'], p)\n",
    "\n",
    "# Display the first few rows after filling missing values\n",
    "print(food_df.head())\n"
   ]
  },
  {
   "cell_type": "code",
   "execution_count": 11,
   "id": "a4f642b2-19b9-4c42-9f18-74e22609d68f",
   "metadata": {},
   "outputs": [
    {
     "data": {
      "text/plain": [
       "0"
      ]
     },
     "execution_count": 11,
     "metadata": {},
     "output_type": "execute_result"
    }
   ],
   "source": [
    "food_df['Hospitalizations'].isnull().sum()\n",
    "# עמודה מספר 11 הצגת מספר הערכים הריקים"
   ]
  },
  {
   "cell_type": "code",
   "execution_count": 12,
   "id": "ad551bb6-cbd0-429d-8d32-8aea27634999",
   "metadata": {
    "tags": []
   },
   "outputs": [
    {
     "data": {
      "text/plain": [
       "3601"
      ]
     },
     "execution_count": 12,
     "metadata": {},
     "output_type": "execute_result"
    }
   ],
   "source": [
    "food_df['Fatalities'].isnull().sum()\n",
    "# עמודה מספר 12 הצגת מספר הערכים הריקים"
   ]
  },
  {
   "cell_type": "code",
   "execution_count": 37,
   "id": "43e91800-5183-4e37-be71-173d5323fa4f",
   "metadata": {
    "tags": []
   },
   "outputs": [
    {
     "data": {
      "text/plain": [
       "array([ 0., nan,  2.,  1., 21.,  3.,  7.,  4.,  8.,  6.,  5.,  9., 33.])"
      ]
     },
     "execution_count": 37,
     "metadata": {},
     "output_type": "execute_result"
    }
   ],
   "source": [
    "food_df['Fatalities'].unique()"
   ]
  },
  {
   "cell_type": "code",
   "execution_count": 17,
   "id": "7f7661b6-1339-47f1-8b18-0d076ce5c767",
   "metadata": {},
   "outputs": [
    {
     "data": {
      "image/png": "[encoded data removed]",
      "text/plain": [
       "<Figure size 1000x1000 with 1 Axes>"
      ]
     },
     "metadata": {},
     "output_type": "display_data"
    }
   ],
   "source": [
    "filtered_Fatalities = food_df['Fatalities'][food_df['Fatalities'] < 20]\n",
    "plt.figure(figsize=(10, 10))\n",
    "plt.hist(filtered_Fatalities, bins=120, color='skyblue', edgecolor='black', density= True)\n",
    "plt.title('Density plot of Fatalities below 20')\n",
    "plt.xlabel('Fatalities')\n",
    "plt.ylabel('Frequency')\n",
    "plt.grid(True)\n",
    "plt.show()"
   ]
  },
  {
   "cell_type": "code",
   "execution_count": 19,
   "id": "dd8b560b-6b1b-49dc-97ea-5c66479b4a5c",
   "metadata": {},
   "outputs": [
    {
     "data": {
      "text/plain": [
       "count    15516.000000\n",
       "mean         0.018239\n",
       "std          0.226483\n",
       "min          0.000000\n",
       "25%          0.000000\n",
       "50%          0.000000\n",
       "75%          0.000000\n",
       "max          9.000000\n",
       "Name: Fatalities, dtype: float64"
      ]
     },
     "execution_count": 19,
     "metadata": {},
     "output_type": "execute_result"
    }
   ],
   "source": [
    "filtered_Fatalities.describe()"
   ]
  },
  {
   "cell_type": "code",
   "execution_count": 20,
   "id": "95aa284f-3d2d-4bc7-907d-4fcd17aa9569",
   "metadata": {},
   "outputs": [
    {
     "data": {
      "text/plain": [
       "15516"
      ]
     },
     "execution_count": 20,
     "metadata": {},
     "output_type": "execute_result"
    }
   ],
   "source": [
    "len(filtered_Fatalities)"
   ]
  },
  {
   "cell_type": "code",
   "execution_count": 21,
   "id": "915fd0a8-1870-4477-b47d-771dbd2a8b9d",
   "metadata": {},
   "outputs": [
    {
     "data": {
      "text/plain": [
       "98.8785769528229"
      ]
     },
     "execution_count": 21,
     "metadata": {},
     "output_type": "execute_result"
    }
   ],
   "source": [
    "((filtered_Fatalities == 0).sum() / filtered_Fatalities.size) * 100"
   ]
  },
  {
   "cell_type": "code",
   "execution_count": 23,
   "id": "3eb4380b-a6ff-455a-8c0b-5ea5e6e69cb2",
   "metadata": {},
   "outputs": [],
   "source": [
    "food_df['Fatalities'] = food_df['Fatalities'].fillna(0, inplace = False)"
   ]
  },
  {
   "cell_type": "code",
   "execution_count": 25,
   "id": "211183e1-a5b2-441a-b5ed-c4582208c3aa",
   "metadata": {},
   "outputs": [
    {
     "data": {
      "text/plain": [
       "0"
      ]
     },
     "execution_count": 25,
     "metadata": {},
     "output_type": "execute_result"
    }
   ],
   "source": [
    "# עמודה מספר 12 הצגת מספר הערכים הריקים\n",
    "food_df['Fatalities'].isnull().sum()"
   ]
  },
  {
   "cell_type": "markdown",
   "id": "d5d8c59d-2f13-48f7-87f3-10f72d46ac93",
   "metadata": {},
   "source": [
    "### <b>3.נוספים </b> <b style='color:#40E0D0'>..</b>"
   ]
  },
  {
   "cell_type": "markdown",
   "id": "f327a077-ecdc-46ce-8e07-6071eaa7d2b8",
   "metadata": {},
   "source": [
    "#כותרת2\n",
    "# <b id = 'Discounts&Sales' > </b> <b style='color:#F05454'>Discounts </b> <b>  lead to sales </b> <b style='color:#F05454'> growth ? </b> <b></b>     "
   ]
  },
  {
   "cell_type": "code",
   "execution_count": 21,
   "id": "c3fd55c7-f9c7-4517-a68e-e6adcea4f807",
   "metadata": {},
   "outputs": [],
   "source": [
    "#תת כותרת 2"
   ]
  },
  {
   "cell_type": "markdown",
   "id": "1ece5714-e975-4568-a722-1c4e70c27a8e",
   "metadata": {},
   "source": [
    "#כותרת3\n",
    "# <b id = 'Discounts&Sales' > </b> <b style='color:#F05454'>Discounts </b> <b>  lead to sales </b> <b style='color:#F05454'> growth ? </b> <b></b> "
   ]
  },
  {
   "cell_type": "code",
   "execution_count": 11,
   "id": "9cd47634-4837-4916-8fee-0413f1b93896",
   "metadata": {},
   "outputs": [],
   "source": [
    "#תת כותרת 3"
   ]
  },
  {
   "cell_type": "markdown",
   "id": "1d1770b5-3e60-46af-aee1-b4a2cbea048b",
   "metadata": {},
   "source": [
    "#כותרת4\n",
    "# <b id = 'Discounts&Sales' > </b> <b style='color:#F05454'>Discounts </b> <b>  lead to sales </b> <b style='color:#F05454'> growth ? </b> <b></b> "
   ]
  },
  {
   "cell_type": "code",
   "execution_count": 12,
   "id": "c648ec1f-2ad0-4546-b3da-37c985d79741",
   "metadata": {},
   "outputs": [],
   "source": [
    "#תת כותרת 4"
   ]
  },
  {
   "cell_type": "code",
   "execution_count": null,
   "id": "05e160b3-30a6-481c-9423-759d650384a2",
   "metadata": {},
   "outputs": [],
   "source": []
  },
  {
   "cell_type": "code",
   "execution_count": null,
   "id": "8a554e25-be27-4aca-ae09-d4d73dce208b",
   "metadata": {},
   "outputs": [],
   "source": []
  }
 ],
 "metadata": {
  "kernelspec": {
   "display_name": "Python 3 (ipykernel)",
   "language": "python",
   "name": "python3"
  },
  "language_info": {
   "codemirror_mode": {
    "name": "ipython",
    "version": 3
   },
   "file_extension": ".py",
   "mimetype": "text/x-python",
   "name": "python",
   "nbconvert_exporter": "python",
   "pygments_lexer": "ipython3",
   "version": "3.11.7"
  }
 },
 "nbformat": 4,
 "nbformat_minor": 5
}

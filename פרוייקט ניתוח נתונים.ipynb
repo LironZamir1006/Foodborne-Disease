{
 "cells": [
  {
   "cell_type": "markdown",
   "id": "a645d25b-9ae0-493b-8992-c58322915c0a",
   "metadata": {},
   "source": [
    "# 43. Foodborne Disease Outbreaks, 1998-2015\r\n",
    "\n",
    "\n",
    "Link to the data source - https://www.kaggle.com/datasets/cdc/foodborne-diseases\n",
    "\n",
    "##### Liron Zam\n",
    "##### Noy Benhamu\n",
    "##### Amit Kroitor\n",
    "or"
   ]
  },
  {
   "cell_type": "markdown",
   "id": "b93978f2-0da9-4103-95d5-fe9a42673d4f",
   "metadata": {},
   "source": [
    "<div>\n",
    "<img png=\"github.com/LironZamir1006/Foodborne-Disease/blob/main/תמונת%20שער%20טובה.png\">\r",
    "</div>\n"
   ]
  },
  {
   "cell_type": "markdown",
   "id": "806e8280-7f7b-44b7-8e40-de00dd10e613",
   "metadata": {},
   "source": [
    "# <b> </b> <b style='color:#40E0D0'>Contents</b>\n",
    "[**1.Introduction & Basic EDA.**](#introductions)\n",
    "\n",
    "[**2.כותרת2**](#Discounts&Sales)\n",
    "\n",
    "[**3.כותרת3**](#Pareto-principle)\n",
    "\n",
    "[**4.כותרת4**](#Prediction-model)\n"
   ]
  },
  {
   "cell_type": "markdown",
   "id": "6425f5cf-3f04-4156-9656-664ed2b88f58",
   "metadata": {},
   "source": [
    "# <b> </b> <b style='color:bleck'>About Dataset</b>\n",
    "\n",
    "\n",
    "# <b> </b> <b style='color:#40E0D0'>Context</b>\n",
    "קובץ הנתונים מספק מידע על מקרי מחלות מונשמות על ידי התפרסות אחת או יותר ונגרמות מאותו מזון או שתייה מוזנחת. המידע כולל תקופת זמן של 1998 עד 2015, וכולל פרטים כגון שנה, מדינה, מיקום שבו נערכה ההכנה, מזון המדווח עליו, משפחת המזון שנדבקה בו, הגורם (הזיה, הרעלת חיידקים או חומר כימי) שגרם למחלה, מצב (האם הגורם נאשר או חשוד), סך כל החולים, בתי חולים, ונפטרים. תוך כדי חקירות מחלה רבות, לא מזוהה רכב מזון מסוים; למקרים אלו, המשתנה של המזון ריק.RS).על"
   ]
  },
  {
   "cell_type": "markdown",
   "id": "1eb2e562-0f33-41f1-8cce-654981469f37",
   "metadata": {},
   "source": [
    "___\n",
    "#  <b id=\"introductions\"> </b> <b style='color:black'>Introduction </b> <b> &  Basic <b style='color:#40E0D0'>EDA. </b>  \n",
    "\n",
    "## <b>Importing </b> <b style='color:#40E0D0'>Libraries.</b>\n",
    "\n"
   ]
  },
  {
   "cell_type": "code",
   "execution_count": 8,
   "id": "265150f9-693c-4ca0-a922-4643f8e10bb7",
   "metadata": {},
   "outputs": [],
   "source": [
    "import pandas as pd"
   ]
  },
  {
   "cell_type": "markdown",
   "id": "6f7c5e1e-6262-4aa8-b649-45a2d83844d4",
   "metadata": {},
   "source": [
    "## <b id='Read-data'>Read </b> <b style='color: #40E0D0'>Data.</b>"
   ]
  },
  {
   "cell_type": "code",
   "execution_count": 9,
   "id": "2981808b-016f-4822-a564-78528baeb3bc",
   "metadata": {},
   "outputs": [],
   "source": [
    "url = 'https://raw.githubusercontent.com/LironZamir1006/Foodborne-Disease/main/Foodborne%20Disease%20Outbreaks%2C%201998-2015.csv'\n",
    "food_df = pd.read_csv(url)"
   ]
  },
  {
   "cell_type": "code",
   "execution_count": 10,
   "id": "61748ed4-f107-4c0a-917e-6643ad83e167",
   "metadata": {},
   "outputs": [
    {
     "data": {
      "text/html": [
       "<div>\n",
       "<style scoped>\n",
       "    .dataframe tbody tr th:only-of-type {\n",
       "        vertical-align: middle;\n",
       "    }\n",
       "\n",
       "    .dataframe tbody tr th {\n",
       "        vertical-align: top;\n",
       "    }\n",
       "\n",
       "    .dataframe thead th {\n",
       "        text-align: right;\n",
       "    }\n",
       "</style>\n",
       "<table border=\"1\" class=\"dataframe\">\n",
       "  <thead>\n",
       "    <tr style=\"text-align: right;\">\n",
       "      <th></th>\n",
       "      <th>Year</th>\n",
       "      <th>Month</th>\n",
       "      <th>State</th>\n",
       "      <th>Location</th>\n",
       "      <th>Food</th>\n",
       "      <th>Ingredient</th>\n",
       "      <th>Species</th>\n",
       "      <th>Serotype/Genotype</th>\n",
       "      <th>Status</th>\n",
       "      <th>Illnesses</th>\n",
       "      <th>Hospitalizations</th>\n",
       "      <th>Fatalities</th>\n",
       "    </tr>\n",
       "  </thead>\n",
       "  <tbody>\n",
       "    <tr>\n",
       "      <th>0</th>\n",
       "      <td>1998</td>\n",
       "      <td>January</td>\n",
       "      <td>California</td>\n",
       "      <td>Restaurant</td>\n",
       "      <td>NaN</td>\n",
       "      <td>NaN</td>\n",
       "      <td>NaN</td>\n",
       "      <td>NaN</td>\n",
       "      <td>NaN</td>\n",
       "      <td>20</td>\n",
       "      <td>0.0</td>\n",
       "      <td>0.0</td>\n",
       "    </tr>\n",
       "    <tr>\n",
       "      <th>1</th>\n",
       "      <td>1998</td>\n",
       "      <td>January</td>\n",
       "      <td>California</td>\n",
       "      <td>NaN</td>\n",
       "      <td>Custard</td>\n",
       "      <td>NaN</td>\n",
       "      <td>NaN</td>\n",
       "      <td>NaN</td>\n",
       "      <td>NaN</td>\n",
       "      <td>112</td>\n",
       "      <td>0.0</td>\n",
       "      <td>0.0</td>\n",
       "    </tr>\n",
       "    <tr>\n",
       "      <th>2</th>\n",
       "      <td>1998</td>\n",
       "      <td>January</td>\n",
       "      <td>California</td>\n",
       "      <td>Restaurant</td>\n",
       "      <td>NaN</td>\n",
       "      <td>NaN</td>\n",
       "      <td>NaN</td>\n",
       "      <td>NaN</td>\n",
       "      <td>NaN</td>\n",
       "      <td>35</td>\n",
       "      <td>0.0</td>\n",
       "      <td>0.0</td>\n",
       "    </tr>\n",
       "    <tr>\n",
       "      <th>3</th>\n",
       "      <td>1998</td>\n",
       "      <td>January</td>\n",
       "      <td>California</td>\n",
       "      <td>Restaurant</td>\n",
       "      <td>Fish, Ahi</td>\n",
       "      <td>NaN</td>\n",
       "      <td>Scombroid toxin</td>\n",
       "      <td>NaN</td>\n",
       "      <td>Confirmed</td>\n",
       "      <td>4</td>\n",
       "      <td>0.0</td>\n",
       "      <td>0.0</td>\n",
       "    </tr>\n",
       "    <tr>\n",
       "      <th>4</th>\n",
       "      <td>1998</td>\n",
       "      <td>January</td>\n",
       "      <td>California</td>\n",
       "      <td>Private Home/Residence</td>\n",
       "      <td>Lasagna, Unspecified; Eggs, Other</td>\n",
       "      <td>NaN</td>\n",
       "      <td>Salmonella enterica</td>\n",
       "      <td>Enteritidis</td>\n",
       "      <td>Confirmed</td>\n",
       "      <td>26</td>\n",
       "      <td>3.0</td>\n",
       "      <td>0.0</td>\n",
       "    </tr>\n",
       "  </tbody>\n",
       "</table>\n",
       "</div>"
      ],
      "text/plain": [
       "   Year    Month       State                Location  \\\n",
       "0  1998  January  California              Restaurant   \n",
       "1  1998  January  California                     NaN   \n",
       "2  1998  January  California              Restaurant   \n",
       "3  1998  January  California              Restaurant   \n",
       "4  1998  January  California  Private Home/Residence   \n",
       "\n",
       "                                Food Ingredient              Species  \\\n",
       "0                                NaN        NaN                  NaN   \n",
       "1                            Custard        NaN                  NaN   \n",
       "2                                NaN        NaN                  NaN   \n",
       "3                          Fish, Ahi        NaN      Scombroid toxin   \n",
       "4  Lasagna, Unspecified; Eggs, Other        NaN  Salmonella enterica   \n",
       "\n",
       "  Serotype/Genotype     Status  Illnesses  Hospitalizations  Fatalities  \n",
       "0               NaN        NaN         20               0.0         0.0  \n",
       "1               NaN        NaN        112               0.0         0.0  \n",
       "2               NaN        NaN         35               0.0         0.0  \n",
       "3               NaN  Confirmed          4               0.0         0.0  \n",
       "4       Enteritidis  Confirmed         26               3.0         0.0  "
      ]
     },
     "execution_count": 10,
     "metadata": {},
     "output_type": "execute_result"
    }
   ],
   "source": [
    "food_df.head()"
   ]
  },
  {
   "cell_type": "markdown",
   "id": "0c57c1a3-8a5a-456e-bcd8-14463bce333f",
   "metadata": {},
   "source": [
    "### <b>Checking Behaviour </b> <b style='color:#F09454'>of Dataset.</b>"
   ]
  },
  {
   "cell_type": "code",
   "execution_count": 14,
   "id": "93bdd160-c168-4469-ac37-74397d4d5418",
   "metadata": {},
   "outputs": [
    {
     "data": {
      "text/plain": [
       "pandas.core.frame.DataFrame"
      ]
     },
     "execution_count": 14,
     "metadata": {},
     "output_type": "execute_result"
    }
   ],
   "source": [
    "type(food_df)"
   ]
  },
  {
   "cell_type": "code",
   "execution_count": 15,
   "id": "b3ee62cb-c61e-48e1-b907-63651ff727d4",
   "metadata": {},
   "outputs": [
    {
     "data": {
      "text/plain": [
       "19119"
      ]
     },
     "execution_count": 15,
     "metadata": {},
     "output_type": "execute_result"
    }
   ],
   "source": [
    "len(food_df)"
   ]
  },
  {
   "cell_type": "code",
   "execution_count": 16,
   "id": "3f9a9d2b-b78d-4ab1-a3e2-08622212a9d8",
   "metadata": {},
   "outputs": [
    {
     "data": {
      "text/plain": [
       "(19119, 12)"
      ]
     },
     "execution_count": 16,
     "metadata": {},
     "output_type": "execute_result"
    }
   ],
   "source": [
    "food_df.shape"
   ]
  },
  {
   "cell_type": "code",
   "execution_count": 17,
   "id": "30d38e70-53d4-47e9-b1da-c81c3824d6cd",
   "metadata": {},
   "outputs": [
    {
     "name": "stdout",
     "output_type": "stream",
     "text": [
      "<class 'pandas.core.frame.DataFrame'>\n",
      "RangeIndex: 19119 entries, 0 to 19118\n",
      "Data columns (total 12 columns):\n",
      " #   Column             Non-Null Count  Dtype  \n",
      "---  ------             --------------  -----  \n",
      " 0   Year               19119 non-null  int64  \n",
      " 1   Month              19119 non-null  object \n",
      " 2   State              19119 non-null  object \n",
      " 3   Location           16953 non-null  object \n",
      " 4   Food               10156 non-null  object \n",
      " 5   Ingredient         1876 non-null   object \n",
      " 6   Species            12500 non-null  object \n",
      " 7   Serotype/Genotype  3907 non-null   object \n",
      " 8   Status             12500 non-null  object \n",
      " 9   Illnesses          19119 non-null  int64  \n",
      " 10  Hospitalizations   15494 non-null  float64\n",
      " 11  Fatalities         15518 non-null  float64\n",
      "dtypes: float64(2), int64(2), object(8)\n",
      "memory usage: 1.8+ MB\n"
     ]
    }
   ],
   "source": [
    "food_df.info()"
   ]
  },
  {
   "cell_type": "code",
   "execution_count": 18,
   "id": "3f3bacaa-a3f0-49a1-8bf0-b43df0815691",
   "metadata": {},
   "outputs": [
    {
     "data": {
      "text/plain": [
       "Index(['Year', 'Month', 'State', 'Location', 'Food', 'Ingredient', 'Species',\n",
       "       'Serotype/Genotype', 'Status', 'Illnesses', 'Hospitalizations',\n",
       "       'Fatalities'],\n",
       "      dtype='object')"
      ]
     },
     "execution_count": 18,
     "metadata": {},
     "output_type": "execute_result"
    }
   ],
   "source": [
    "food_df.columns"
   ]
  },
  {
   "cell_type": "code",
   "execution_count": 19,
   "id": "f3047d59-986d-4c51-af20-f5d0d725d442",
   "metadata": {},
   "outputs": [
    {
     "data": {
      "text/plain": [
       "array([1998, 1999, 2000, 2001, 2002, 2003, 2004, 2005, 2006, 2007, 2008,\n",
       "       2009, 2010, 2011, 2012, 2013, 2014, 2015], dtype=int64)"
      ]
     },
     "execution_count": 19,
     "metadata": {},
     "output_type": "execute_result"
    }
   ],
   "source": [
    "food_df['Year'].unique()"
   ]
  }
 ],
 "metadata": {
  "kernelspec": {
   "display_name": "Python 3 (ipykernel)",
   "language": "python",
   "name": "python3"
  },
  "language_info": {
   "codemirror_mode": {
    "name": "ipython",
    "version": 3
   },
   "file_extension": ".py",
   "mimetype": "text/x-python",
   "name": "python",
   "nbconvert_exporter": "python",
   "pygments_lexer": "ipython3",
   "version": "3.11.7"
  }
 },
 "nbformat": 4,
 "nbformat_minor": 5
}

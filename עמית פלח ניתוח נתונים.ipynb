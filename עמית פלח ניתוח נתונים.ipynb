{
 "cells": [
  {
   "cell_type": "code",
   "execution_count": 1,
   "metadata": {},
   "outputs": [],
   "source": [
    "import pandas as pd\n",
    "import numpy as np\n",
    "import matplotlib.pyplot as plt\n",
    "import seaborn as sns\n",
    "import sklearn as sk\n",
    "from datetime import date"
   ]
  },
  {
   "cell_type": "code",
   "execution_count": 2,
   "metadata": {},
   "outputs": [
    {
     "data": {
      "text/html": [
       "<div>\n",
       "<style scoped>\n",
       "    .dataframe tbody tr th:only-of-type {\n",
       "        vertical-align: middle;\n",
       "    }\n",
       "\n",
       "    .dataframe tbody tr th {\n",
       "        vertical-align: top;\n",
       "    }\n",
       "\n",
       "    .dataframe thead th {\n",
       "        text-align: right;\n",
       "    }\n",
       "</style>\n",
       "<table border=\"1\" class=\"dataframe\">\n",
       "  <thead>\n",
       "    <tr style=\"text-align: right;\">\n",
       "      <th></th>\n",
       "      <th>Year</th>\n",
       "      <th>Month</th>\n",
       "      <th>State</th>\n",
       "      <th>Location</th>\n",
       "      <th>Food</th>\n",
       "      <th>Ingredient</th>\n",
       "      <th>Species</th>\n",
       "      <th>Serotype/Genotype</th>\n",
       "      <th>Status</th>\n",
       "      <th>Illnesses</th>\n",
       "      <th>Hospitalizations</th>\n",
       "      <th>Fatalities</th>\n",
       "    </tr>\n",
       "  </thead>\n",
       "  <tbody>\n",
       "    <tr>\n",
       "      <th>19114</th>\n",
       "      <td>2015</td>\n",
       "      <td>December</td>\n",
       "      <td>Wisconsin</td>\n",
       "      <td>Restaurant</td>\n",
       "      <td>NaN</td>\n",
       "      <td>NaN</td>\n",
       "      <td>Norovirus genogroup II</td>\n",
       "      <td>GII_14</td>\n",
       "      <td>Confirmed</td>\n",
       "      <td>4</td>\n",
       "      <td>0.0</td>\n",
       "      <td>0.0</td>\n",
       "    </tr>\n",
       "    <tr>\n",
       "      <th>19115</th>\n",
       "      <td>2015</td>\n",
       "      <td>December</td>\n",
       "      <td>Wisconsin</td>\n",
       "      <td>Private Home/Residence</td>\n",
       "      <td>Salsa</td>\n",
       "      <td>NaN</td>\n",
       "      <td>Norovirus genogroup II</td>\n",
       "      <td>GII_2</td>\n",
       "      <td>Confirmed</td>\n",
       "      <td>16</td>\n",
       "      <td>0.0</td>\n",
       "      <td>0.0</td>\n",
       "    </tr>\n",
       "    <tr>\n",
       "      <th>19116</th>\n",
       "      <td>2015</td>\n",
       "      <td>December</td>\n",
       "      <td>Wisconsin</td>\n",
       "      <td>Nursing Home/Assisted Living Facility</td>\n",
       "      <td>NaN</td>\n",
       "      <td>NaN</td>\n",
       "      <td>Norovirus genogroup II</td>\n",
       "      <td>GII_17 Kawasaki (2014)</td>\n",
       "      <td>Confirmed</td>\n",
       "      <td>43</td>\n",
       "      <td>3.0</td>\n",
       "      <td>0.0</td>\n",
       "    </tr>\n",
       "    <tr>\n",
       "      <th>19117</th>\n",
       "      <td>2015</td>\n",
       "      <td>December</td>\n",
       "      <td>Wisconsin</td>\n",
       "      <td>Fast Food Restaurant</td>\n",
       "      <td>NaN</td>\n",
       "      <td>NaN</td>\n",
       "      <td>Norovirus genogroup II</td>\n",
       "      <td>GII_2</td>\n",
       "      <td>Confirmed</td>\n",
       "      <td>5</td>\n",
       "      <td>0.0</td>\n",
       "      <td>0.0</td>\n",
       "    </tr>\n",
       "    <tr>\n",
       "      <th>19118</th>\n",
       "      <td>2015</td>\n",
       "      <td>December</td>\n",
       "      <td>Wyoming</td>\n",
       "      <td>NaN</td>\n",
       "      <td>NaN</td>\n",
       "      <td>NaN</td>\n",
       "      <td>NaN</td>\n",
       "      <td>NaN</td>\n",
       "      <td>NaN</td>\n",
       "      <td>3</td>\n",
       "      <td>0.0</td>\n",
       "      <td>0.0</td>\n",
       "    </tr>\n",
       "  </tbody>\n",
       "</table>\n",
       "</div>"
      ],
      "text/plain": [
       "       Year     Month      State                               Location  \\\n",
       "19114  2015  December  Wisconsin                             Restaurant   \n",
       "19115  2015  December  Wisconsin                 Private Home/Residence   \n",
       "19116  2015  December  Wisconsin  Nursing Home/Assisted Living Facility   \n",
       "19117  2015  December  Wisconsin                   Fast Food Restaurant   \n",
       "19118  2015  December    Wyoming                                    NaN   \n",
       "\n",
       "        Food Ingredient                 Species       Serotype/Genotype  \\\n",
       "19114    NaN        NaN  Norovirus genogroup II                  GII_14   \n",
       "19115  Salsa        NaN  Norovirus genogroup II                   GII_2   \n",
       "19116    NaN        NaN  Norovirus genogroup II  GII_17 Kawasaki (2014)   \n",
       "19117    NaN        NaN  Norovirus genogroup II                   GII_2   \n",
       "19118    NaN        NaN                     NaN                     NaN   \n",
       "\n",
       "          Status  Illnesses  Hospitalizations  Fatalities  \n",
       "19114  Confirmed          4               0.0         0.0  \n",
       "19115  Confirmed         16               0.0         0.0  \n",
       "19116  Confirmed         43               3.0         0.0  \n",
       "19117  Confirmed          5               0.0         0.0  \n",
       "19118        NaN          3               0.0         0.0  "
      ]
     },
     "execution_count": 2,
     "metadata": {},
     "output_type": "execute_result"
    }
   ],
   "source": [
    "df = pd.read_csv('C:\\\\Users\\\\amitf\\\\Desktop\\\\amit\\\\Self practice\\\\data for analysis\\\\outbreaks\\\\outbreaks.csv', encoding='ISO-8859-1')\n",
    "df = df.copy()\n",
    "df.tail()"
   ]
  },
  {
   "cell_type": "code",
   "execution_count": 43,
   "metadata": {},
   "outputs": [
    {
     "data": {
      "text/plain": [
       "Index(['Year', 'Month', 'State', 'Location', 'Food', 'Ingredient', 'Species',\n",
       "       'Serotype/Genotype', 'Status', 'Illnesses', 'Hospitalizations',\n",
       "       'Fatalities'],\n",
       "      dtype='object')"
      ]
     },
     "execution_count": 43,
     "metadata": {},
     "output_type": "execute_result"
    }
   ],
   "source": [
    "df.columns"
   ]
  },
  {
   "cell_type": "code",
   "execution_count": 3,
   "metadata": {},
   "outputs": [
    {
     "data": {
      "text/plain": [
       "(19119, 12)"
      ]
     },
     "execution_count": 3,
     "metadata": {},
     "output_type": "execute_result"
    }
   ],
   "source": [
    "df.shape"
   ]
  },
  {
   "cell_type": "markdown",
   "metadata": {},
   "source": [
    "# **EDA PROJECT**\n",
    "<ul>\n",
    "<li>missing values</li>\n",
    "<li>outliers</li>\n",
    "<li>EDA</li>\n",
    "</ul>"
   ]
  },
  {
   "cell_type": "code",
   "execution_count": 4,
   "metadata": {},
   "outputs": [
    {
     "data": {
      "text/plain": [
       "Year                   int64\n",
       "Month                 object\n",
       "State                 object\n",
       "Location              object\n",
       "Food                  object\n",
       "Ingredient            object\n",
       "Species               object\n",
       "Serotype/Genotype     object\n",
       "Status                object\n",
       "Illnesses              int64\n",
       "Hospitalizations     float64\n",
       "Fatalities           float64\n",
       "dtype: object"
      ]
     },
     "execution_count": 4,
     "metadata": {},
     "output_type": "execute_result"
    }
   ],
   "source": [
    "df.dtypes"
   ]
  },
  {
   "cell_type": "code",
   "execution_count": 5,
   "metadata": {},
   "outputs": [
    {
     "data": {
      "text/plain": [
       "Year                     0\n",
       "Month                    0\n",
       "State                    0\n",
       "Illnesses                0\n",
       "Location              2166\n",
       "Fatalities            3601\n",
       "Hospitalizations      3625\n",
       "Species               6619\n",
       "Status                6619\n",
       "Food                  8963\n",
       "Serotype/Genotype    15212\n",
       "Ingredient           17243\n",
       "dtype: int64"
      ]
     },
     "execution_count": 5,
     "metadata": {},
     "output_type": "execute_result"
    }
   ],
   "source": [
    "df.isnull().sum().sort_values()"
   ]
  },
  {
   "cell_type": "markdown",
   "metadata": {},
   "source": [
    "### Function in use"
   ]
  },
  {
   "cell_type": "code",
   "execution_count": 6,
   "metadata": {},
   "outputs": [],
   "source": [
    "#הדפסת עמודות עם המון ערכים ריקים\n",
    "def columns_with_empty_values_above_threshold(df, threshold):\n",
    "    columns_with_empty = []\n",
    "    for column in df.columns:\n",
    "        empty_count = df[column].isnull().sum()\n",
    "        if empty_count > threshold:\n",
    "            columns_with_empty.append(column)\n",
    "    return columns_with_empty\n",
    "\n",
    "#הדפסת מספר שורות עם המון ערכים ריקים\n",
    "def count_rows_with_empty_values(df, threshold):\n",
    "    num_empty_values = df.isnull().sum(axis=1)\n",
    "    rows_with_empty_values = (num_empty_values > threshold).sum()\n",
    "    return rows_with_empty_values\n",
    "\n",
    "# הסרת ערכים ריקים מעמודות ממספר מסויים ומטה \n",
    "def remove_rows_with_empty_values_below_threshold(df, column_name, threshold):\n",
    "    df_cleaned = df[df[column_name].isnull().sum() >= threshold]\n",
    "    return df_cleaned\n"
   ]
  },
  {
   "cell_type": "markdown",
   "metadata": {},
   "source": [
    "# **--------------------------------------------------------------------------------------------------------------------------------------------------------------------------------**"
   ]
  },
  {
   "cell_type": "code",
   "execution_count": 7,
   "metadata": {},
   "outputs": [
    {
     "name": "stdout",
     "output_type": "stream",
     "text": [
      "Columns with empty values: ['Ingredient', 'Serotype/Genotype']\n"
     ]
    }
   ],
   "source": [
    "empty_columns = columns_with_empty_values_above_threshold(df, 10000)\n",
    "print(\"Columns with empty values:\", empty_columns)"
   ]
  },
  {
   "cell_type": "code",
   "execution_count": 8,
   "metadata": {},
   "outputs": [
    {
     "name": "stdout",
     "output_type": "stream",
     "text": [
      "Number of rows with more than 3 empty values: 8172\n"
     ]
    }
   ],
   "source": [
    "rows_with_empty = count_rows_with_empty_values(df, threshold=3)\n",
    "print(f\"Number of rows with more than 3 empty values: {rows_with_empty}\")"
   ]
  },
  {
   "cell_type": "code",
   "execution_count": 9,
   "metadata": {},
   "outputs": [
    {
     "name": "stdout",
     "output_type": "stream",
     "text": [
      "Number of rows with more than 3 empty values: 5360\n"
     ]
    }
   ],
   "source": [
    "rows_with_empty = count_rows_with_empty_values(df, threshold=4)\n",
    "print(f\"Number of rows with more than 3 empty values: {rows_with_empty}\")"
   ]
  },
  {
   "cell_type": "code",
   "execution_count": 10,
   "metadata": {},
   "outputs": [],
   "source": [
    "df_cleaned = df.drop(columns=empty_columns)"
   ]
  },
  {
   "cell_type": "code",
   "execution_count": 11,
   "metadata": {},
   "outputs": [
    {
     "data": {
      "text/plain": [
       "Year                   0\n",
       "Month                  0\n",
       "State                  0\n",
       "Illnesses              0\n",
       "Location            2166\n",
       "Fatalities          3601\n",
       "Hospitalizations    3625\n",
       "Species             6619\n",
       "Status              6619\n",
       "Food                8963\n",
       "dtype: int64"
      ]
     },
     "execution_count": 11,
     "metadata": {},
     "output_type": "execute_result"
    }
   ],
   "source": [
    "df_cleaned.isnull().sum().sort_values()"
   ]
  },
  {
   "cell_type": "code",
   "execution_count": 12,
   "metadata": {},
   "outputs": [
    {
     "name": "stdout",
     "output_type": "stream",
     "text": [
      "Number of rows with more than 3 empty values: 2274\n"
     ]
    }
   ],
   "source": [
    "rows_with_empty = count_rows_with_empty_values(df_cleaned, threshold=3)\n",
    "print(f\"Number of rows with more than 3 empty values: {rows_with_empty}\")"
   ]
  },
  {
   "cell_type": "code",
   "execution_count": 13,
   "metadata": {},
   "outputs": [
    {
     "data": {
      "text/plain": [
       "Year                   0\n",
       "Month                  0\n",
       "State                  0\n",
       "Illnesses              0\n",
       "Location            1461\n",
       "Hospitalizations    1766\n",
       "Fatalities          1778\n",
       "Species             4430\n",
       "Status              4430\n",
       "Food                7677\n",
       "dtype: int64"
      ]
     },
     "execution_count": 13,
     "metadata": {},
     "output_type": "execute_result"
    }
   ],
   "source": [
    "df_cleaned = df_cleaned[df_cleaned.isnull().sum(axis=1) <= 3]\n",
    "df_cleaned.isnull().sum().sort_values()"
   ]
  },
  {
   "cell_type": "code",
   "execution_count": 14,
   "metadata": {},
   "outputs": [
    {
     "data": {
      "text/html": [
       "<div>\n",
       "<style scoped>\n",
       "    .dataframe tbody tr th:only-of-type {\n",
       "        vertical-align: middle;\n",
       "    }\n",
       "\n",
       "    .dataframe tbody tr th {\n",
       "        vertical-align: top;\n",
       "    }\n",
       "\n",
       "    .dataframe thead th {\n",
       "        text-align: right;\n",
       "    }\n",
       "</style>\n",
       "<table border=\"1\" class=\"dataframe\">\n",
       "  <thead>\n",
       "    <tr style=\"text-align: right;\">\n",
       "      <th></th>\n",
       "      <th>Year</th>\n",
       "      <th>Month</th>\n",
       "      <th>State</th>\n",
       "      <th>Location</th>\n",
       "      <th>Food</th>\n",
       "      <th>Species</th>\n",
       "      <th>Status</th>\n",
       "      <th>Illnesses</th>\n",
       "      <th>Hospitalizations</th>\n",
       "      <th>Fatalities</th>\n",
       "    </tr>\n",
       "  </thead>\n",
       "  <tbody>\n",
       "    <tr>\n",
       "      <th>0</th>\n",
       "      <td>1998</td>\n",
       "      <td>January</td>\n",
       "      <td>California</td>\n",
       "      <td>Restaurant</td>\n",
       "      <td>NaN</td>\n",
       "      <td>NaN</td>\n",
       "      <td>NaN</td>\n",
       "      <td>20</td>\n",
       "      <td>0.0</td>\n",
       "      <td>0.0</td>\n",
       "    </tr>\n",
       "    <tr>\n",
       "      <th>1</th>\n",
       "      <td>1998</td>\n",
       "      <td>January</td>\n",
       "      <td>California</td>\n",
       "      <td>NaN</td>\n",
       "      <td>Custard</td>\n",
       "      <td>NaN</td>\n",
       "      <td>NaN</td>\n",
       "      <td>112</td>\n",
       "      <td>0.0</td>\n",
       "      <td>0.0</td>\n",
       "    </tr>\n",
       "    <tr>\n",
       "      <th>2</th>\n",
       "      <td>1998</td>\n",
       "      <td>January</td>\n",
       "      <td>California</td>\n",
       "      <td>Restaurant</td>\n",
       "      <td>NaN</td>\n",
       "      <td>NaN</td>\n",
       "      <td>NaN</td>\n",
       "      <td>35</td>\n",
       "      <td>0.0</td>\n",
       "      <td>0.0</td>\n",
       "    </tr>\n",
       "    <tr>\n",
       "      <th>3</th>\n",
       "      <td>1998</td>\n",
       "      <td>January</td>\n",
       "      <td>California</td>\n",
       "      <td>Restaurant</td>\n",
       "      <td>Fish, Ahi</td>\n",
       "      <td>Scombroid toxin</td>\n",
       "      <td>Confirmed</td>\n",
       "      <td>4</td>\n",
       "      <td>0.0</td>\n",
       "      <td>0.0</td>\n",
       "    </tr>\n",
       "    <tr>\n",
       "      <th>4</th>\n",
       "      <td>1998</td>\n",
       "      <td>January</td>\n",
       "      <td>California</td>\n",
       "      <td>Private Home/Residence</td>\n",
       "      <td>Lasagna, Unspecified; Eggs, Other</td>\n",
       "      <td>Salmonella enterica</td>\n",
       "      <td>Confirmed</td>\n",
       "      <td>26</td>\n",
       "      <td>3.0</td>\n",
       "      <td>0.0</td>\n",
       "    </tr>\n",
       "    <tr>\n",
       "      <th>...</th>\n",
       "      <td>...</td>\n",
       "      <td>...</td>\n",
       "      <td>...</td>\n",
       "      <td>...</td>\n",
       "      <td>...</td>\n",
       "      <td>...</td>\n",
       "      <td>...</td>\n",
       "      <td>...</td>\n",
       "      <td>...</td>\n",
       "      <td>...</td>\n",
       "    </tr>\n",
       "    <tr>\n",
       "      <th>19113</th>\n",
       "      <td>2015</td>\n",
       "      <td>December</td>\n",
       "      <td>Wisconsin</td>\n",
       "      <td>Banquet Facility</td>\n",
       "      <td>Gravy, Pork</td>\n",
       "      <td>Clostridium perfringens</td>\n",
       "      <td>Suspected</td>\n",
       "      <td>29</td>\n",
       "      <td>NaN</td>\n",
       "      <td>NaN</td>\n",
       "    </tr>\n",
       "    <tr>\n",
       "      <th>19114</th>\n",
       "      <td>2015</td>\n",
       "      <td>December</td>\n",
       "      <td>Wisconsin</td>\n",
       "      <td>Restaurant</td>\n",
       "      <td>NaN</td>\n",
       "      <td>Norovirus genogroup II</td>\n",
       "      <td>Confirmed</td>\n",
       "      <td>4</td>\n",
       "      <td>0.0</td>\n",
       "      <td>0.0</td>\n",
       "    </tr>\n",
       "    <tr>\n",
       "      <th>19115</th>\n",
       "      <td>2015</td>\n",
       "      <td>December</td>\n",
       "      <td>Wisconsin</td>\n",
       "      <td>Private Home/Residence</td>\n",
       "      <td>Salsa</td>\n",
       "      <td>Norovirus genogroup II</td>\n",
       "      <td>Confirmed</td>\n",
       "      <td>16</td>\n",
       "      <td>0.0</td>\n",
       "      <td>0.0</td>\n",
       "    </tr>\n",
       "    <tr>\n",
       "      <th>19116</th>\n",
       "      <td>2015</td>\n",
       "      <td>December</td>\n",
       "      <td>Wisconsin</td>\n",
       "      <td>Nursing Home/Assisted Living Facility</td>\n",
       "      <td>NaN</td>\n",
       "      <td>Norovirus genogroup II</td>\n",
       "      <td>Confirmed</td>\n",
       "      <td>43</td>\n",
       "      <td>3.0</td>\n",
       "      <td>0.0</td>\n",
       "    </tr>\n",
       "    <tr>\n",
       "      <th>19117</th>\n",
       "      <td>2015</td>\n",
       "      <td>December</td>\n",
       "      <td>Wisconsin</td>\n",
       "      <td>Fast Food Restaurant</td>\n",
       "      <td>NaN</td>\n",
       "      <td>Norovirus genogroup II</td>\n",
       "      <td>Confirmed</td>\n",
       "      <td>5</td>\n",
       "      <td>0.0</td>\n",
       "      <td>0.0</td>\n",
       "    </tr>\n",
       "  </tbody>\n",
       "</table>\n",
       "<p>16845 rows × 10 columns</p>\n",
       "</div>"
      ],
      "text/plain": [
       "       Year     Month       State                               Location  \\\n",
       "0      1998   January  California                             Restaurant   \n",
       "1      1998   January  California                                    NaN   \n",
       "2      1998   January  California                             Restaurant   \n",
       "3      1998   January  California                             Restaurant   \n",
       "4      1998   January  California                 Private Home/Residence   \n",
       "...     ...       ...         ...                                    ...   \n",
       "19113  2015  December   Wisconsin                       Banquet Facility   \n",
       "19114  2015  December   Wisconsin                             Restaurant   \n",
       "19115  2015  December   Wisconsin                 Private Home/Residence   \n",
       "19116  2015  December   Wisconsin  Nursing Home/Assisted Living Facility   \n",
       "19117  2015  December   Wisconsin                   Fast Food Restaurant   \n",
       "\n",
       "                                    Food                  Species     Status  \\\n",
       "0                                    NaN                      NaN        NaN   \n",
       "1                                Custard                      NaN        NaN   \n",
       "2                                    NaN                      NaN        NaN   \n",
       "3                              Fish, Ahi          Scombroid toxin  Confirmed   \n",
       "4      Lasagna, Unspecified; Eggs, Other      Salmonella enterica  Confirmed   \n",
       "...                                  ...                      ...        ...   \n",
       "19113                        Gravy, Pork  Clostridium perfringens  Suspected   \n",
       "19114                                NaN   Norovirus genogroup II  Confirmed   \n",
       "19115                              Salsa   Norovirus genogroup II  Confirmed   \n",
       "19116                                NaN   Norovirus genogroup II  Confirmed   \n",
       "19117                                NaN   Norovirus genogroup II  Confirmed   \n",
       "\n",
       "       Illnesses  Hospitalizations  Fatalities  \n",
       "0             20               0.0         0.0  \n",
       "1            112               0.0         0.0  \n",
       "2             35               0.0         0.0  \n",
       "3              4               0.0         0.0  \n",
       "4             26               3.0         0.0  \n",
       "...          ...               ...         ...  \n",
       "19113         29               NaN         NaN  \n",
       "19114          4               0.0         0.0  \n",
       "19115         16               0.0         0.0  \n",
       "19116         43               3.0         0.0  \n",
       "19117          5               0.0         0.0  \n",
       "\n",
       "[16845 rows x 10 columns]"
      ]
     },
     "execution_count": 14,
     "metadata": {},
     "output_type": "execute_result"
    }
   ],
   "source": [
    "df_cleaned"
   ]
  },
  {
   "cell_type": "markdown",
   "metadata": {},
   "source": [
    "---\n",
    "## <blockquote> Status </blockquote>\n",
    "\n",
    "#### קטגורית"
   ]
  },
  {
   "cell_type": "code",
   "execution_count": 15,
   "metadata": {},
   "outputs": [
    {
     "data": {
      "text/plain": [
       "4430"
      ]
     },
     "execution_count": 15,
     "metadata": {},
     "output_type": "execute_result"
    }
   ],
   "source": [
    "df_cleaned['Status'].isnull().sum()"
   ]
  },
  {
   "cell_type": "code",
   "execution_count": 16,
   "metadata": {},
   "outputs": [
    {
     "data": {
      "text/plain": [
       "array([nan, 'Confirmed', 'Suspected', 'Suspected; Suspected',\n",
       "       'Confirmed; Confirmed', 'Confirmed; Suspected',\n",
       "       'Confirmed; Confirmed; Confirmed',\n",
       "       'Confirmed; Suspected; Suspected',\n",
       "       'Suspected; Suspected; Suspected',\n",
       "       'Confirmed; Confirmed; Suspected', 'Suspected; Confirmed',\n",
       "       'Confirmed; Confirmed; Confirmed; Confirmed; Confirmed; Confirmed',\n",
       "       'Confirmed; Confirmed; Suspected; Confirmed',\n",
       "       'Suspected; Confirmed; Confirmed',\n",
       "       'Confirmed; Suspected; Confirmed; Confirmed; Confirmed; Confirmed; Confirmed',\n",
       "       'Confirmed; Confirmed; Confirmed; Confirmed; Suspected',\n",
       "       'Confirmed; Confirmed; Confirmed; Confirmed; Confirmed; Suspected; Suspected; Suspected; Suspected; Suspected; Suspected; Suspected; Suspected',\n",
       "       'Confirmed; Suspected; Confirmed',\n",
       "       'Suspected; Suspected; Confirmed; Suspected',\n",
       "       'Confirmed; Confirmed; Suspected; Suspected',\n",
       "       'Suspected; Suspected; Suspected; Suspected',\n",
       "       'Suspected; Suspected; Suspected; Suspected; Suspected',\n",
       "       'Suspected; Suspected; Confirmed; Suspected; Suspected; Confirmed'],\n",
       "      dtype=object)"
      ]
     },
     "execution_count": 16,
     "metadata": {},
     "output_type": "execute_result"
    }
   ],
   "source": [
    "df_cleaned['Status'].unique()"
   ]
  },
  {
   "cell_type": "code",
   "execution_count": 17,
   "metadata": {},
   "outputs": [],
   "source": [
    "def categorize_status(status):\n",
    "    if pd.isna(status): \n",
    "        return np.nan\n",
    "    elif 'Confirmed' in status: \n",
    "        return 'Confirmed'\n",
    "    else: \n",
    "        return 'Suspect'\n",
    "\n",
    "df_cleaned['Status'] = df_cleaned['Status'].apply(categorize_status)"
   ]
  },
  {
   "cell_type": "code",
   "execution_count": 18,
   "metadata": {},
   "outputs": [
    {
     "data": {
      "text/plain": [
       "array([nan, 'Confirmed', 'Suspect'], dtype=object)"
      ]
     },
     "execution_count": 18,
     "metadata": {},
     "output_type": "execute_result"
    }
   ],
   "source": [
    "df_cleaned['Status'].unique()"
   ]
  },
  {
   "cell_type": "code",
   "execution_count": 19,
   "metadata": {},
   "outputs": [
    {
     "data": {
      "image/png": "[encoded data removed]",
      "text/plain": [
       "<Figure size 576x432 with 1 Axes>"
      ]
     },
     "metadata": {
      "needs_background": "light"
     },
     "output_type": "display_data"
    }
   ],
   "source": [
    "plt.figure(figsize=(8, 6))\n",
    "sns.countplot(data=df_cleaned, x='Status')\n",
    "plt.title('Count of Status')\n",
    "plt.xlabel('Status')\n",
    "plt.ylabel('Count')\n",
    "plt.show()"
   ]
  },
  {
   "cell_type": "code",
   "execution_count": 45,
   "metadata": {},
   "outputs": [
    {
     "data": {
      "text/html": [
       "<div>\n",
       "<style scoped>\n",
       "    .dataframe tbody tr th:only-of-type {\n",
       "        vertical-align: middle;\n",
       "    }\n",
       "\n",
       "    .dataframe tbody tr th {\n",
       "        vertical-align: top;\n",
       "    }\n",
       "\n",
       "    .dataframe thead th {\n",
       "        text-align: right;\n",
       "    }\n",
       "</style>\n",
       "<table border=\"1\" class=\"dataframe\">\n",
       "  <thead>\n",
       "    <tr style=\"text-align: right;\">\n",
       "      <th></th>\n",
       "      <th>Status</th>\n",
       "    </tr>\n",
       "  </thead>\n",
       "  <tbody>\n",
       "    <tr>\n",
       "      <th>count</th>\n",
       "      <td>16845</td>\n",
       "    </tr>\n",
       "    <tr>\n",
       "      <th>unique</th>\n",
       "      <td>2</td>\n",
       "    </tr>\n",
       "    <tr>\n",
       "      <th>top</th>\n",
       "      <td>Confirmed</td>\n",
       "    </tr>\n",
       "    <tr>\n",
       "      <th>freq</th>\n",
       "      <td>12494</td>\n",
       "    </tr>\n",
       "  </tbody>\n",
       "</table>\n",
       "</div>"
      ],
      "text/plain": [
       "           Status\n",
       "count       16845\n",
       "unique          2\n",
       "top     Confirmed\n",
       "freq        12494"
      ]
     },
     "execution_count": 45,
     "metadata": {},
     "output_type": "execute_result"
    }
   ],
   "source": [
    "df_cleaned[['Status']].describe()"
   ]
  },
  {
   "cell_type": "code",
   "execution_count": 20,
   "metadata": {},
   "outputs": [],
   "source": [
    "df_cleaned['Status'] = df_cleaned['Status'].fillna('Confirmed', inplace = False)"
   ]
  },
  {
   "cell_type": "code",
   "execution_count": 21,
   "metadata": {},
   "outputs": [
    {
     "data": {
      "text/plain": [
       "0"
      ]
     },
     "execution_count": 21,
     "metadata": {},
     "output_type": "execute_result"
    }
   ],
   "source": [
    "df_cleaned['Status'].isnull().sum()"
   ]
  },
  {
   "cell_type": "markdown",
   "metadata": {},
   "source": [
    "## <blockquote> Location </blockquote>\n"
   ]
  },
  {
   "cell_type": "code",
   "execution_count": 22,
   "metadata": {},
   "outputs": [
    {
     "data": {
      "text/plain": [
       "1461"
      ]
     },
     "execution_count": 22,
     "metadata": {},
     "output_type": "execute_result"
    }
   ],
   "source": [
    "df_cleaned['Location'].isnull().sum()"
   ]
  },
  {
   "cell_type": "code",
   "execution_count": 23,
   "metadata": {},
   "outputs": [
    {
     "data": {
      "text/plain": [
       "array(['Restaurant', nan, 'Private Home/Residence', 'Grocery Store',\n",
       "       'Catering Service', 'Restaurant; Catering Service',\n",
       "       'School/College/University', 'Restaurant; Grocery Store',\n",
       "       'Restaurant; Private Home/Residence',\n",
       "       'Nursing Home/Assisted Living Facility', 'Hospital',\n",
       "       'Office/Indoor Workplace', 'Prison/Jail', 'Child Daycare',\n",
       "       'Religious Facility', 'Camp',\n",
       "       'Private Home/Residence; Religious Facility',\n",
       "       'Private Home/Residence; Catering Service', 'Unknown',\n",
       "       'Fair/Festival', 'Private Home/Residence; Grocery Store',\n",
       "       'Catering Service; School/College/University',\n",
       "       'School/College/University; Religious Facility',\n",
       "       'School/College/University; Camp',\n",
       "       'Grocery Store; Office/Indoor Workplace',\n",
       "       'Restaurant; Private Home/Residence; Grocery Store',\n",
       "       'Private Home/Residence; Fair/Festival', 'Restaurant; Prison/Jail',\n",
       "       'Restaurant; Nursing Home/Assisted Living Facility',\n",
       "       'Restaurant; School/College/University',\n",
       "       'Restaurant; Private Home/Residence; Religious Facility',\n",
       "       'Restaurant; Private Home/Residence; School/College/University',\n",
       "       'Catering Service; Grocery Store',\n",
       "       'Restaurant; Private Home/Residence; Catering Service',\n",
       "       'Restaurant; Grocery Store; School/College/University',\n",
       "       'Private Home/Residence; Grocery Store; School/College/University',\n",
       "       'Restaurant; Private Home/Residence; Grocery Store; Nursing Home/Assisted Living Facility',\n",
       "       'Restaurant; Religious Facility',\n",
       "       'Restaurant; Catering Service; Grocery Store',\n",
       "       'Private Home/Residence; Camp',\n",
       "       'Private Home/Residence; Catering Service; Grocery Store',\n",
       "       'Office/Indoor Workplace; Nursing Home/Assisted Living Facility; Hospital',\n",
       "       'Restaurant; Private Home/Residence; Grocery Store; Office/Indoor Workplace; Religious Facility',\n",
       "       'Catering Service; Religious Facility',\n",
       "       'Restaurant; Office/Indoor Workplace',\n",
       "       'Office/Indoor Workplace; Hospital',\n",
       "       'Restaurant; Private Home/Residence; Grocery Store; Religious Facility',\n",
       "       'Restaurant; Catering Service; School/College/University',\n",
       "       'Private Home/Residence; Grocery Store; Nursing Home/Assisted Living Facility',\n",
       "       'Private Home/Residence; Catering Service; School/College/University',\n",
       "       'Banquet Facility', 'Catering Service; Hospital',\n",
       "       'Restaurant; Hospital; School/College/University',\n",
       "       'Restaurant; Catering Service; Fair/Festival',\n",
       "       'Grocery Store; Religious Facility',\n",
       "       'Restaurant; Private Home/Residence; Catering Service; Grocery Store',\n",
       "       'Restaurant; Camp',\n",
       "       'Private Home/Residence; School/College/University',\n",
       "       'Restaurant; Private Home/Residence; Catering Service; Grocery Store; Nursing Home/Assisted Living Facility; Hospital',\n",
       "       'Private Home/Residence; Catering Service; Religious Facility',\n",
       "       'Restaurant; Office/Indoor Workplace; Hospital',\n",
       "       'Private Home/Residence; Grocery Store; Child Daycare',\n",
       "       'Restaurant; Private Home/Residence; Catering Service; Fair/Festival',\n",
       "       'Private Home/Residence; Child Daycare',\n",
       "       'Fair/Festival; Grocery Store',\n",
       "       'Catering Service; Grocery Store; Office/Indoor Workplace',\n",
       "       'Restaurant; Fair/Festival', 'Catering Service; Child Daycare',\n",
       "       'Restaurant; Private Home/Residence; Office/Indoor Workplace; Nursing Home/Assisted Living Facility',\n",
       "       'Catering Service; Nursing Home/Assisted Living Facility',\n",
       "       'Office/Indoor Workplace; Camp', 'Catering Service; Fair/Festival',\n",
       "       'Restaurant; Catering Service; Office/Indoor Workplace',\n",
       "       'Private Home/Residence; Hospital; School/College/University',\n",
       "       'Private Home/Residence; Child Daycare; School/College/University',\n",
       "       'Restaurant; Banquet Facility',\n",
       "       'Restaurant; Private Home/Residence; Banquet Facility; Grocery Store',\n",
       "       'Restaurant; Private Home/Residence; Fair/Festival; Grocery Store; School/College/University',\n",
       "       'Restaurant; Private Home/Residence; Office/Indoor Workplace; Hospital',\n",
       "       'Restaurant; Unknown',\n",
       "       'Restaurant; Nursing Home/Assisted Living Facility; Hospital',\n",
       "       'Restaurant; Grocery Store; Office/Indoor Workplace',\n",
       "       'Restaurant; Private Home/Residence; Banquet Facility',\n",
       "       'Fair/Festival; Office/Indoor Workplace',\n",
       "       'Private Home/Residence; Banquet Facility; Catering Service; Grocery Store',\n",
       "       'Private Home/Residence; Grocery Store; Religious Facility',\n",
       "       'Banquet Facility; Office/Indoor Workplace',\n",
       "       'Nursing Home/Assisted Living Facility; Hospital',\n",
       "       'Banquet Facility; Unknown', 'Banquet Facility; Catering Service',\n",
       "       'Catering Service; Unknown',\n",
       "       'Office/Indoor Workplace; Prison/Jail',\n",
       "       'Restaurant; Private Home/Residence; Hospital',\n",
       "       'Office/Indoor Workplace; School/College/University',\n",
       "       'Private Home/Residence; Banquet Facility',\n",
       "       'Banquet Facility; Catering Service; Grocery Store',\n",
       "       'Banquet Facility; Grocery Store',\n",
       "       'Restaurant; Banquet Facility; Office/Indoor Workplace',\n",
       "       'Private Home/Residence; Office/Indoor Workplace',\n",
       "       'Other (Describe In Remarks); Unknown',\n",
       "       'Restaurant; Private Home/Residence; Fair/Festival',\n",
       "       'Private Home/Residence; Banquet Facility; Unknown',\n",
       "       'Child Daycare; Religious Facility', 'Catering Service; Camp',\n",
       "       'Restaurant; Banquet Facility; Catering Service',\n",
       "       'Restaurant; Nursing Home/Assisted Living Facility; Unknown',\n",
       "       'Private Home/Residence; Banquet Facility; Religious Facility',\n",
       "       'Private Home/Residence; Fair/Festival; Grocery Store',\n",
       "       'Restaurant; Private Home/Residence; Catering Service; Office/Indoor Workplace',\n",
       "       'Fast Food Restaurant',\n",
       "       'Fast Food Restaurant; Private Home/Residence; Grocery Store',\n",
       "       'Fast Food Restaurant; Private Home/Residence',\n",
       "       'Fast Food Restaurant; Restaurant',\n",
       "       'School/College/University; Prison/Jail',\n",
       "       'Catering Service; Office/Indoor Workplace',\n",
       "       'Fast Food Restaurant; Catering Service',\n",
       "       'Fast Food Restaurant; Restaurant; Private Home/Residence',\n",
       "       'Restaurant; Restaurant; Private Home/Residence; Banquet Facility; Catering Service',\n",
       "       'Fast Food Restaurant; Fair/Festival; School/College/University',\n",
       "       'Restaurant; Office/Indoor Workplace; School/College/University',\n",
       "       'Fast Food Restaurant; Grocery Store',\n",
       "       'Restaurant; Banquet Facility; Grocery Store',\n",
       "       'Private Home/Residence; Banquet Facility; Catering Service; Fair/Festival; Grocery Store',\n",
       "       'Fair/Festival; Prison/Jail',\n",
       "       'Fast Food Restaurant; Restaurant; Restaurant; Private Home/Residence',\n",
       "       'Fast Food Restaurant; Private Home/Residence; Catering Service; Grocery Store',\n",
       "       'Private Home/Residence; Grocery Store; Nursing Home/Assisted Living Facility; School/College/University',\n",
       "       'Private Home/Residence; Office/Indoor Workplace; Camp',\n",
       "       'Fast Food Restaurant; Restaurant; Restaurant',\n",
       "       'Private Home/Residence; Unknown',\n",
       "       'Restaurant; Private Home/Residence; Grocery Store; Unknown',\n",
       "       'Restaurant; Private Home/Residence; Camp',\n",
       "       'Private Home/Residence; Banquet Facility; Camp',\n",
       "       'Grocery Store; School/College/University',\n",
       "       'Private Home/Residence; Catering Service; Office/Indoor Workplace',\n",
       "       'Fast Food Restaurant; Restaurant; School/College/University',\n",
       "       'Private Home/Residence; Banquet Facility; Catering Service',\n",
       "       'Restaurant; Restaurant; Private Home/Residence; Banquet Facility',\n",
       "       'Restaurant; Catering Service; Religious Facility',\n",
       "       'Banquet Facility; Religious Facility',\n",
       "       'Fast Food Restaurant; Restaurant; Fair/Festival',\n",
       "       'Fast Food Restaurant; Hospital',\n",
       "       'Child Daycare; School/College/University',\n",
       "       'Private Home/Residence; Catering Service; Prison/Jail; Religious Facility',\n",
       "       'Private Home/Residence; Grocery Store; School/College/University; Unknown',\n",
       "       'Fast Food Restaurant; Restaurant; Unknown',\n",
       "       'Fast Food Restaurant; Restaurant; Restaurant; Private Home/Residence; Grocery Store; Long-Term Care/Nursing Home/As...',\n",
       "       'Restaurant; Restaurant; Banquet Facility',\n",
       "       'Fast Food Restaurant; Restaurant; Office/Indoor Workplace',\n",
       "       'Farm/Dairy',\n",
       "       'Banquet Facility; Catering Service; Religious Facility',\n",
       "       'Fast Food Restaurant; Restaurant; Restaurant; Grocery Store; Office/Indoor Workplace',\n",
       "       'Fast Food Restaurant; Restaurant; Private Home/Residence; Grocery Store',\n",
       "       'Restaurant Buffet', 'Restaurant; Restaurant',\n",
       "       'Catering Service; Fair/Festival; Grocery Store',\n",
       "       'Restaurant; Private Home/Residence; Banquet Facility; Catering Service; Grocery Store',\n",
       "       'Restaurant; Restaurant Buffet', 'Ship/Boat', 'Hotel/Motel'],\n",
       "      dtype=object)"
      ]
     },
     "execution_count": 23,
     "metadata": {},
     "output_type": "execute_result"
    }
   ],
   "source": [
    "df_cleaned['Location'].unique()"
   ]
  },
  {
   "cell_type": "markdown",
   "metadata": {},
   "source": [
    "---\n",
    "## <blockquote> Hospitalizations </blockquote>\n",
    "### עמודה מספרית\n"
   ]
  },
  {
   "cell_type": "code",
   "execution_count": 24,
   "metadata": {},
   "outputs": [
    {
     "data": {
      "text/plain": [
       "1766"
      ]
     },
     "execution_count": 24,
     "metadata": {},
     "output_type": "execute_result"
    }
   ],
   "source": [
    "df_cleaned['Hospitalizations'].isnull().sum()"
   ]
  },
  {
   "cell_type": "code",
   "execution_count": 25,
   "metadata": {},
   "outputs": [
    {
     "data": {
      "text/plain": [
       "array([  0.,   3.,  nan,   2.,   1.,   5.,   6.,   4.,  60.,   7.,  47.,\n",
       "        10.,  12.,  14.,  24.,  11.,  17.,  35.,  31.,   9., 101.,  13.,\n",
       "        16.,   8.,  15.,  23.,  29.,  30.,  19.,  18.,  34.,  22.,  58.,\n",
       "        36.,  43.,  20.,  25., 129.,  56.,  39.,  21., 103.,  55.,  27.,\n",
       "       108., 308.,  32.,  71., 166.,  52.,  28.,  50., 143.,  33.,  94.,\n",
       "        40.,  70., 200.,  48., 204.,  49.])"
      ]
     },
     "execution_count": 25,
     "metadata": {},
     "output_type": "execute_result"
    }
   ],
   "source": [
    "df_cleaned['Hospitalizations'].unique()"
   ]
  },
  {
   "cell_type": "code",
   "execution_count": 26,
   "metadata": {},
   "outputs": [
    {
     "data": {
      "text/plain": [
       "60"
      ]
     },
     "execution_count": 26,
     "metadata": {},
     "output_type": "execute_result"
    }
   ],
   "source": [
    "df_cleaned['Hospitalizations'].nunique()"
   ]
  },
  {
   "cell_type": "code",
   "execution_count": 27,
   "metadata": {},
   "outputs": [
    {
     "data": {
      "image/png": "[encoded data removed]",
      "text/plain": [
       "<Figure size 720x720 with 1 Axes>"
      ]
     },
     "metadata": {
      "needs_background": "light"
     },
     "output_type": "display_data"
    }
   ],
   "source": [
    "plt.figure(figsize=(10, 10))\n",
    "plt.hist(df_cleaned['Hospitalizations'], bins=20, color='skyblue', edgecolor='black')\n",
    "plt.title('Density plot of Hospitalizations')\n",
    "plt.xlabel('nkill')\n",
    "plt.ylabel('Frequency')\n",
    "plt.grid(True)\n",
    "plt.show()"
   ]
  },
  {
   "cell_type": "code",
   "execution_count": 28,
   "metadata": {},
   "outputs": [
    {
     "data": {
      "text/html": [
       "<div>\n",
       "<style scoped>\n",
       "    .dataframe tbody tr th:only-of-type {\n",
       "        vertical-align: middle;\n",
       "    }\n",
       "\n",
       "    .dataframe tbody tr th {\n",
       "        vertical-align: top;\n",
       "    }\n",
       "\n",
       "    .dataframe thead th {\n",
       "        text-align: right;\n",
       "    }\n",
       "</style>\n",
       "<table border=\"1\" class=\"dataframe\">\n",
       "  <thead>\n",
       "    <tr style=\"text-align: right;\">\n",
       "      <th></th>\n",
       "      <th>Hospitalizations</th>\n",
       "    </tr>\n",
       "  </thead>\n",
       "  <tbody>\n",
       "    <tr>\n",
       "      <th>count</th>\n",
       "      <td>15079.000000</td>\n",
       "    </tr>\n",
       "    <tr>\n",
       "      <th>mean</th>\n",
       "      <td>0.957159</td>\n",
       "    </tr>\n",
       "    <tr>\n",
       "      <th>std</th>\n",
       "      <td>5.369725</td>\n",
       "    </tr>\n",
       "    <tr>\n",
       "      <th>min</th>\n",
       "      <td>0.000000</td>\n",
       "    </tr>\n",
       "    <tr>\n",
       "      <th>25%</th>\n",
       "      <td>0.000000</td>\n",
       "    </tr>\n",
       "    <tr>\n",
       "      <th>50%</th>\n",
       "      <td>0.000000</td>\n",
       "    </tr>\n",
       "    <tr>\n",
       "      <th>75%</th>\n",
       "      <td>1.000000</td>\n",
       "    </tr>\n",
       "    <tr>\n",
       "      <th>max</th>\n",
       "      <td>308.000000</td>\n",
       "    </tr>\n",
       "  </tbody>\n",
       "</table>\n",
       "</div>"
      ],
      "text/plain": [
       "       Hospitalizations\n",
       "count      15079.000000\n",
       "mean           0.957159\n",
       "std            5.369725\n",
       "min            0.000000\n",
       "25%            0.000000\n",
       "50%            0.000000\n",
       "75%            1.000000\n",
       "max          308.000000"
      ]
     },
     "execution_count": 28,
     "metadata": {},
     "output_type": "execute_result"
    }
   ],
   "source": [
    "df_cleaned[['Hospitalizations']].describe()"
   ]
  },
  {
   "cell_type": "code",
   "execution_count": 29,
   "metadata": {},
   "outputs": [
    {
     "data": {
      "image/png": "[encoded data removed]",
      "text/plain": [
       "<Figure size 720x720 with 1 Axes>"
      ]
     },
     "metadata": {
      "needs_background": "light"
     },
     "output_type": "display_data"
    }
   ],
   "source": [
    "filtered_hospitalizations = df_cleaned['Hospitalizations'][df_cleaned['Hospitalizations'] < 100]\n",
    "plt.figure(figsize=(10, 10))\n",
    "plt.hist(filtered_hospitalizations, bins=20, color='skyblue', edgecolor='black')\n",
    "plt.title('Density plot of Hospitalizations below 100')\n",
    "plt.xlabel('Hospitalizations')\n",
    "plt.ylabel('Frequency')\n",
    "plt.grid(True)\n",
    "plt.show()"
   ]
  },
  {
   "cell_type": "code",
   "execution_count": 30,
   "metadata": {},
   "outputs": [
    {
     "data": {
      "image/png": "[encoded data removed]",
      "text/plain": [
       "<Figure size 720x720 with 1 Axes>"
      ]
     },
     "metadata": {
      "needs_background": "light"
     },
     "output_type": "display_data"
    }
   ],
   "source": [
    "filtered_hospitalizations = df_cleaned['Hospitalizations'][df_cleaned['Hospitalizations'] < 20]\n",
    "plt.figure(figsize=(10, 10))\n",
    "plt.hist(filtered_hospitalizations, bins=120, color='skyblue', edgecolor='black', density= True)\n",
    "plt.title('Density plot of Hospitalizations below 20')\n",
    "plt.xlabel('Hospitalizations')\n",
    "plt.ylabel('Frequency')\n",
    "plt.grid(True)\n",
    "plt.show()"
   ]
  },
  {
   "cell_type": "code",
   "execution_count": 31,
   "metadata": {},
   "outputs": [
    {
     "data": {
      "text/plain": [
       "count    14993.000000\n",
       "mean         0.685653\n",
       "std          1.822783\n",
       "min          0.000000\n",
       "25%          0.000000\n",
       "50%          0.000000\n",
       "75%          1.000000\n",
       "max         19.000000\n",
       "Name: Hospitalizations, dtype: float64"
      ]
     },
     "execution_count": 31,
     "metadata": {},
     "output_type": "execute_result"
    }
   ],
   "source": [
    "filtered_hospitalizations.describe()"
   ]
  },
  {
   "cell_type": "code",
   "execution_count": 32,
   "metadata": {},
   "outputs": [
    {
     "data": {
      "text/plain": [
       "14993"
      ]
     },
     "execution_count": 32,
     "metadata": {},
     "output_type": "execute_result"
    }
   ],
   "source": [
    "len(filtered_hospitalizations)"
   ]
  },
  {
   "cell_type": "code",
   "execution_count": 38,
   "metadata": {},
   "outputs": [
    {
     "data": {
      "text/plain": [
       "74.28133128793436"
      ]
     },
     "execution_count": 38,
     "metadata": {},
     "output_type": "execute_result"
    }
   ],
   "source": [
    "((filtered_hospitalizations == 0).sum() / filtered_hospitalizations.size) * 100"
   ]
  },
  {
   "cell_type": "code",
   "execution_count": 39,
   "metadata": {},
   "outputs": [],
   "source": [
    "df_cleaned['Hospitalizations'] = df_cleaned['Hospitalizations'].fillna(0, inplace = False)"
   ]
  },
  {
   "cell_type": "markdown",
   "metadata": {},
   "source": [
    "# **--------------------------------------------------------------------------------------------------------------------------------------------------------------------------------**"
   ]
  },
  {
   "cell_type": "markdown",
   "metadata": {},
   "source": [
    "## Noisy data - outliers"
   ]
  },
  {
   "cell_type": "code",
   "execution_count": 40,
   "metadata": {},
   "outputs": [
    {
     "data": {
      "image/png": "[encoded data removed]",
      "text/plain": [
       "<Figure size 864x1152 with 4 Axes>"
      ]
     },
     "metadata": {
      "needs_background": "light"
     },
     "output_type": "display_data"
    }
   ],
   "source": [
    "def plot_boxplot_matrix(df, numeric_columns):\n",
    "    num_cols = len(numeric_columns)\n",
    "    fig, axes = plt.subplots(nrows=num_cols, ncols=1, figsize=(12, num_cols * 4))\n",
    "    if num_cols == 1:\n",
    "        axes = [axes]\n",
    "    for ax, column in zip(axes, numeric_columns):\n",
    "        sns.boxplot(x=df[column], ax=ax)\n",
    "        ax.set_title(f'Boxplot of {column}')\n",
    "    \n",
    "    plt.tight_layout()\n",
    "    plt.show()\n",
    "\n",
    "numeric_columns = ['Year','Illnesses','Hospitalizations','Fatalities']\n",
    "plot_boxplot_matrix(df_cleaned, numeric_columns)\n"
   ]
  },
  {
   "cell_type": "code",
   "execution_count": 46,
   "metadata": {},
   "outputs": [
    {
     "data": {
      "text/html": [
       "<div>\n",
       "<style scoped>\n",
       "    .dataframe tbody tr th:only-of-type {\n",
       "        vertical-align: middle;\n",
       "    }\n",
       "\n",
       "    .dataframe tbody tr th {\n",
       "        vertical-align: top;\n",
       "    }\n",
       "\n",
       "    .dataframe thead th {\n",
       "        text-align: right;\n",
       "    }\n",
       "</style>\n",
       "<table border=\"1\" class=\"dataframe\">\n",
       "  <thead>\n",
       "    <tr style=\"text-align: right;\">\n",
       "      <th></th>\n",
       "      <th>Year</th>\n",
       "      <th>Month</th>\n",
       "      <th>State</th>\n",
       "      <th>Location</th>\n",
       "      <th>Food</th>\n",
       "      <th>Species</th>\n",
       "      <th>Status</th>\n",
       "      <th>Illnesses</th>\n",
       "      <th>Hospitalizations</th>\n",
       "      <th>Fatalities</th>\n",
       "    </tr>\n",
       "  </thead>\n",
       "  <tbody>\n",
       "    <tr>\n",
       "      <th>1062</th>\n",
       "      <td>1998</td>\n",
       "      <td>October</td>\n",
       "      <td>Multistate</td>\n",
       "      <td>NaN</td>\n",
       "      <td>Hot Dog, Unspecified</td>\n",
       "      <td>Listeria monocytogenes</td>\n",
       "      <td>Confirmed</td>\n",
       "      <td>101</td>\n",
       "      <td>101.0</td>\n",
       "      <td>21.0</td>\n",
       "    </tr>\n",
       "    <tr>\n",
       "      <th>8492</th>\n",
       "      <td>2004</td>\n",
       "      <td>July</td>\n",
       "      <td>Multistate</td>\n",
       "      <td>Restaurant</td>\n",
       "      <td>Roma Tomato</td>\n",
       "      <td>Salmonella enterica; Salmonella enterica; Salm...</td>\n",
       "      <td>Confirmed</td>\n",
       "      <td>429</td>\n",
       "      <td>129.0</td>\n",
       "      <td>0.0</td>\n",
       "    </tr>\n",
       "    <tr>\n",
       "      <th>10775</th>\n",
       "      <td>2006</td>\n",
       "      <td>August</td>\n",
       "      <td>Multistate</td>\n",
       "      <td>Private Home/Residence</td>\n",
       "      <td>Spinach</td>\n",
       "      <td>Escherichia coli, Shiga toxin-producing</td>\n",
       "      <td>Confirmed</td>\n",
       "      <td>238</td>\n",
       "      <td>103.0</td>\n",
       "      <td>5.0</td>\n",
       "    </tr>\n",
       "    <tr>\n",
       "      <th>10776</th>\n",
       "      <td>2006</td>\n",
       "      <td>August</td>\n",
       "      <td>Multistate</td>\n",
       "      <td>NaN</td>\n",
       "      <td>Peanut Butter</td>\n",
       "      <td>Salmonella enterica</td>\n",
       "      <td>Confirmed</td>\n",
       "      <td>715</td>\n",
       "      <td>129.0</td>\n",
       "      <td>0.0</td>\n",
       "    </tr>\n",
       "    <tr>\n",
       "      <th>11432</th>\n",
       "      <td>2007</td>\n",
       "      <td>February</td>\n",
       "      <td>Multistate</td>\n",
       "      <td>Private Home/Residence</td>\n",
       "      <td>Pot Pie</td>\n",
       "      <td>Salmonella enterica</td>\n",
       "      <td>Confirmed</td>\n",
       "      <td>401</td>\n",
       "      <td>108.0</td>\n",
       "      <td>3.0</td>\n",
       "    </tr>\n",
       "    <tr>\n",
       "      <th>12678</th>\n",
       "      <td>2008</td>\n",
       "      <td>April</td>\n",
       "      <td>Multistate</td>\n",
       "      <td>NaN</td>\n",
       "      <td>Peppers, Jalapeno; Tomato, Unspecified; Pepper...</td>\n",
       "      <td>Salmonella enterica</td>\n",
       "      <td>Confirmed</td>\n",
       "      <td>1500</td>\n",
       "      <td>308.0</td>\n",
       "      <td>2.0</td>\n",
       "    </tr>\n",
       "    <tr>\n",
       "      <th>13054</th>\n",
       "      <td>2008</td>\n",
       "      <td>August</td>\n",
       "      <td>Oklahoma</td>\n",
       "      <td>Restaurant; Religious Facility</td>\n",
       "      <td>NaN</td>\n",
       "      <td>Escherichia coli, Shiga toxin-producing</td>\n",
       "      <td>Confirmed</td>\n",
       "      <td>344</td>\n",
       "      <td>71.0</td>\n",
       "      <td>1.0</td>\n",
       "    </tr>\n",
       "    <tr>\n",
       "      <th>13108</th>\n",
       "      <td>2008</td>\n",
       "      <td>September</td>\n",
       "      <td>Multistate</td>\n",
       "      <td>NaN</td>\n",
       "      <td>Peanut Butter; Peanut Paste</td>\n",
       "      <td>Salmonella enterica</td>\n",
       "      <td>Confirmed</td>\n",
       "      <td>714</td>\n",
       "      <td>166.0</td>\n",
       "      <td>9.0</td>\n",
       "    </tr>\n",
       "    <tr>\n",
       "      <th>15329</th>\n",
       "      <td>2011</td>\n",
       "      <td>July</td>\n",
       "      <td>Multistate</td>\n",
       "      <td>Private Home/Residence</td>\n",
       "      <td>Cantaloupe</td>\n",
       "      <td>Listeria monocytogenes</td>\n",
       "      <td>Confirmed</td>\n",
       "      <td>147</td>\n",
       "      <td>143.0</td>\n",
       "      <td>33.0</td>\n",
       "    </tr>\n",
       "    <tr>\n",
       "      <th>16158</th>\n",
       "      <td>2012</td>\n",
       "      <td>July</td>\n",
       "      <td>Multistate</td>\n",
       "      <td>Private Home/Residence</td>\n",
       "      <td>Cantaloupe</td>\n",
       "      <td>Salmonella enterica; Salmonella enterica</td>\n",
       "      <td>Confirmed</td>\n",
       "      <td>261</td>\n",
       "      <td>94.0</td>\n",
       "      <td>3.0</td>\n",
       "    </tr>\n",
       "    <tr>\n",
       "      <th>16682</th>\n",
       "      <td>2013</td>\n",
       "      <td>March</td>\n",
       "      <td>Multistate</td>\n",
       "      <td>Private Home/Residence</td>\n",
       "      <td>Pomegranate Seeds</td>\n",
       "      <td>Hepatitis A</td>\n",
       "      <td>Confirmed</td>\n",
       "      <td>157</td>\n",
       "      <td>70.0</td>\n",
       "      <td>0.0</td>\n",
       "    </tr>\n",
       "    <tr>\n",
       "      <th>16683</th>\n",
       "      <td>2013</td>\n",
       "      <td>March</td>\n",
       "      <td>Multistate</td>\n",
       "      <td>NaN</td>\n",
       "      <td>Chicken</td>\n",
       "      <td>Salmonella enterica</td>\n",
       "      <td>Confirmed</td>\n",
       "      <td>634</td>\n",
       "      <td>200.0</td>\n",
       "      <td>0.0</td>\n",
       "    </tr>\n",
       "    <tr>\n",
       "      <th>18746</th>\n",
       "      <td>2015</td>\n",
       "      <td>July</td>\n",
       "      <td>Multistate</td>\n",
       "      <td>NaN</td>\n",
       "      <td>Cucumber</td>\n",
       "      <td>Salmonella enterica</td>\n",
       "      <td>Confirmed</td>\n",
       "      <td>907</td>\n",
       "      <td>204.0</td>\n",
       "      <td>6.0</td>\n",
       "    </tr>\n",
       "  </tbody>\n",
       "</table>\n",
       "</div>"
      ],
      "text/plain": [
       "       Year      Month       State                        Location  \\\n",
       "1062   1998    October  Multistate                             NaN   \n",
       "8492   2004       July  Multistate                      Restaurant   \n",
       "10775  2006     August  Multistate          Private Home/Residence   \n",
       "10776  2006     August  Multistate                             NaN   \n",
       "11432  2007   February  Multistate          Private Home/Residence   \n",
       "12678  2008      April  Multistate                             NaN   \n",
       "13054  2008     August    Oklahoma  Restaurant; Religious Facility   \n",
       "13108  2008  September  Multistate                             NaN   \n",
       "15329  2011       July  Multistate          Private Home/Residence   \n",
       "16158  2012       July  Multistate          Private Home/Residence   \n",
       "16682  2013      March  Multistate          Private Home/Residence   \n",
       "16683  2013      March  Multistate                             NaN   \n",
       "18746  2015       July  Multistate                             NaN   \n",
       "\n",
       "                                                    Food  \\\n",
       "1062                                Hot Dog, Unspecified   \n",
       "8492                                         Roma Tomato   \n",
       "10775                                            Spinach   \n",
       "10776                                      Peanut Butter   \n",
       "11432                                            Pot Pie   \n",
       "12678  Peppers, Jalapeno; Tomato, Unspecified; Pepper...   \n",
       "13054                                                NaN   \n",
       "13108                        Peanut Butter; Peanut Paste   \n",
       "15329                                         Cantaloupe   \n",
       "16158                                         Cantaloupe   \n",
       "16682                                  Pomegranate Seeds   \n",
       "16683                                            Chicken   \n",
       "18746                                           Cucumber   \n",
       "\n",
       "                                                 Species     Status  \\\n",
       "1062                              Listeria monocytogenes  Confirmed   \n",
       "8492   Salmonella enterica; Salmonella enterica; Salm...  Confirmed   \n",
       "10775            Escherichia coli, Shiga toxin-producing  Confirmed   \n",
       "10776                                Salmonella enterica  Confirmed   \n",
       "11432                                Salmonella enterica  Confirmed   \n",
       "12678                                Salmonella enterica  Confirmed   \n",
       "13054            Escherichia coli, Shiga toxin-producing  Confirmed   \n",
       "13108                                Salmonella enterica  Confirmed   \n",
       "15329                             Listeria monocytogenes  Confirmed   \n",
       "16158           Salmonella enterica; Salmonella enterica  Confirmed   \n",
       "16682                                        Hepatitis A  Confirmed   \n",
       "16683                                Salmonella enterica  Confirmed   \n",
       "18746                                Salmonella enterica  Confirmed   \n",
       "\n",
       "       Illnesses  Hospitalizations  Fatalities  \n",
       "1062         101             101.0        21.0  \n",
       "8492         429             129.0         0.0  \n",
       "10775        238             103.0         5.0  \n",
       "10776        715             129.0         0.0  \n",
       "11432        401             108.0         3.0  \n",
       "12678       1500             308.0         2.0  \n",
       "13054        344              71.0         1.0  \n",
       "13108        714             166.0         9.0  \n",
       "15329        147             143.0        33.0  \n",
       "16158        261              94.0         3.0  \n",
       "16682        157              70.0         0.0  \n",
       "16683        634             200.0         0.0  \n",
       "18746        907             204.0         6.0  "
      ]
     },
     "execution_count": 46,
     "metadata": {},
     "output_type": "execute_result"
    }
   ],
   "source": [
    "df_cleaned[df_cleaned['Hospitalizations']>60]"
   ]
  },
  {
   "cell_type": "code",
   "execution_count": null,
   "metadata": {},
   "outputs": [],
   "source": []
  }
 ],
 "metadata": {
  "kernelspec": {
   "display_name": "Python 3",
   "language": "python",
   "name": "python3"
  },
  "language_info": {
   "codemirror_mode": {
    "name": "ipython",
    "version": 3
   },
   "file_extension": ".py",
   "mimetype": "text/x-python",
   "name": "python",
   "nbconvert_exporter": "python",
   "pygments_lexer": "ipython3",
   "version": "3.8.3"
  }
 },
 "nbformat": 4,
 "nbformat_minor": 4
}
